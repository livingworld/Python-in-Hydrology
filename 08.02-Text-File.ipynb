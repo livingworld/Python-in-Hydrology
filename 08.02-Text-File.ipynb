{
 "cells": [
  {
   "cell_type": "markdown",
   "metadata": {},
   "source": []
  },
  {
   "cell_type": "markdown",
   "metadata": {},
   "source": []
  },
  {
   "cell_type": "markdown",
   "metadata": {},
   "source": [
    "## 8.2 Text文件\n",
    "\n",
    "有一些软件/工具从text文件中读取输入，然后写入text文件。如果我们想要使用这些工具同时处理(处理许多文件)，则我们需要修改输入的text文件，并从该工具编写的文件中提取信息。\n",
    "\n",
    "在跳入许多？，首先我们将仅读取text文件。`r`用于读取，`w`用于写入，`a`用于附加到现有的文件。"
   ]
  },
  {
   "cell_type": "code",
   "execution_count": 1,
   "metadata": {},
   "outputs": [
    {
     "name": "stdout",
     "output_type": "stream",
     "text": [
      "\n",
      "\n",
      "NUM_RUNS = 1\n",
      "\n",
      "\n",
      "\n",
      "BEGIN\n",
      "\n",
      "INPUT_FILENAME = /home/tomer/data/input.hdf\n",
      "\n",
      "OBJECT_NAME = MOD_Grid_BRDF|\n",
      "\n",
      "FIELD_NAME = Albedo_BSA_Band1\n",
      "\n",
      "BAND_NUMBER = 1\n",
      "\n",
      "SPATIAL_SUBSET_UL_CORNER = ( 13.0 75.0 )\n",
      "\n",
      "SPATIAL_SUBSET_LR_CORNER = ( 11.0 78.0 )\n",
      "\n",
      "RESAMPLING_TYPE = BI\n",
      "\n",
      "OUTPUT_PROJECTION_TYPE = UTM\n",
      "\n",
      "ELLIPSOID_CODE = WGS84\n",
      "\n",
      "UTM_ZONE = 0\n",
      "\n",
      "OUTPUT_PROJECTION_PARAMETERS = ( 0.0 0.0 0.0 0.0 0.0 0.0 0.0 0.0 0.0 0.0 0.0 0.0 0.0 0.0 0.0  )\n",
      "\n",
      "OUTPUT_FILENAME = /home/tomer/data/output.tif\n",
      "\n",
      "OUTPUT_TYPE = GEO\n",
      "\n",
      "END\n",
      "\n",
      "\n",
      "\n"
     ]
    }
   ],
   "source": [
    "fname_read = 'datas/Albedo.prm'\n",
    "f_read = open(fname_read,'r')\n",
    "for line in f_read:\n",
    "    print(line)\n",
    "f_read.close()"
   ]
  },
  {
   "cell_type": "markdown",
   "metadata": {},
   "source": [
    "我们看到这个文件定义了许多参数，它们将通过使用某些工具用于处理输入的hdf影像。让我们讲，我们有四个输入文件，我们希望批量处理它们。"
   ]
  },
  {
   "cell_type": "code",
   "execution_count": null,
   "metadata": {},
   "outputs": [],
   "source": [
    "fname_input = ['input0','input1','input2','input3']\n",
    "fname_output = ['output0','output1','output2','output3']\n",
    "\n",
    "for i in range(len(fname_input)):\n",
    "    \n",
    "    fname_read = 'datas/Albedo.prm'\n",
    "    f_read = open(fname_read,'r')\n",
    "    \n",
    "    fname_write = 'datas/Albedo_ii.prm'.replace('ii',str(i))\n",
    "    f_write = open(fname_write,'w')\n",
    "    for line in f_read:\n",
    "        if 'INPUT_FILENAME' in line:\n",
    "            line = line.replace('input',fname_input[i])\n",
    "            print(line)\n",
    "            \n"
   ]
  }
 ],
 "metadata": {
  "kernelspec": {
   "display_name": "Python 3",
   "language": "python",
   "name": "python3"
  },
  "language_info": {
   "codemirror_mode": {
    "name": "ipython",
    "version": 3
   },
   "file_extension": ".py",
   "mimetype": "text/x-python",
   "name": "python",
   "nbconvert_exporter": "python",
   "pygments_lexer": "ipython3",
   "version": "3.5.4"
  }
 },
 "nbformat": 4,
 "nbformat_minor": 2
}
