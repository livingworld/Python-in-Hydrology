{
 "cells": [
  {
   "cell_type": "markdown",
   "metadata": {},
   "source": [
    "<!--BOOK_INFORMATION-->\n",
    "<img align=\"left\" style=\"padding-right:10px;\" src=\"figures/PHydro-cover-small.png\">\n",
    "*This is the Jupyter notebook version of the [Python in Hydrology](http://www.greenteapress.com/pythonhydro/pythonhydro.html) by Sat Kumar Tomer.*\n",
    "*Source code is available at [code.google.com](https://code.google.com/archive/p/python-in-hydrology/source).*\n",
    "\n",
    "*The book is available under the [GNU Free Documentation License](http://www.gnu.org/copyleft/fdl.html). If you have comments, corrections or suggestions, please send email to satkumartomer@gmail.com.*"
   ]
  },
  {
   "cell_type": "markdown",
   "metadata": {},
   "source": [
    "<!--NAVIGATION-->\n",
    "< [Water Vapour](04.02-Water-Vapour.ipynb) | [Contents](Index.ipynb) | [Rainfall](04.04-Rainfall.ipynb) >"
   ]
  },
  {
   "cell_type": "markdown",
   "metadata": {},
   "source": [
    "## 4.3 降雨\n",
    "\n",
    "雨滴的最终速度($V_t$)由下式给出:\n",
    "\n",
    "<center>$V_t = [\\frac{4gD}{3C_d}(\\frac{\\rho_w}{\\rho_a}-1)]^{1/2} $, (4-2)</center>\n",
    "\n",
    "$g$是重力加速度，$D$是雨滴的直径，$\\rho_w$是水的密度，$\\rho_a$是空气密度，$C_d$是阻力系数。斯托克定律可以用来计算阻力系数（$C_d=24/R_e$）,这对于直径小于0.1mm的雨滴是有效的。$R_e$是雷诺数，能够以$\\rho_aVD$的形式计算。我们假设，$R_e$是5.0，雨滴直径为0.05mm，我们想估计$V_t$。($\\rho_w=998,\\rho_a=1.2$)"
   ]
  },
  {
   "cell_type": "code",
   "execution_count": 4,
   "metadata": {},
   "outputs": [
    {
     "data": {
      "text/plain": [
       "0.3362483649967134"
      ]
     },
     "execution_count": 4,
     "metadata": {},
     "output_type": "execute_result"
    }
   ],
   "source": [
    "import numpy as np\n",
    "Re = 5.0;rho_w = 998;rho_a = 1.2;g = 9.8;D = 0.05E-3\n",
    "Cd = 24/Re\n",
    "Vt = np.sqrt((4*g*D)/(3*Cd)*(rho_w/rho_a-1))\n",
    "Vt"
   ]
  },
  {
   "cell_type": "markdown",
   "metadata": {},
   "source": [
    "在这个例子中，我们看到“；”允许我们在一行中定义许多表达式。"
   ]
  }
 ],
 "metadata": {
  "kernelspec": {
   "display_name": "Python 3",
   "language": "python",
   "name": "python3"
  },
  "language_info": {
   "codemirror_mode": {
    "name": "ipython",
    "version": 3
   },
   "file_extension": ".py",
   "mimetype": "text/x-python",
   "name": "python",
   "nbconvert_exporter": "python",
   "pygments_lexer": "ipython3",
   "version": "3.6.0"
  }
 },
 "nbformat": 4,
 "nbformat_minor": 2
}
