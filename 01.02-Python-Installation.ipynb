{
 "cells": [
  {
   "cell_type": "markdown",
   "metadata": {},
   "source": [
    "<!--BOOK_INFORMATION-->\n",
    "<img align=\"left\" style=\"padding-right:10px;\" src=\"figures/PHydro-cover-small.png\">\n",
    "*This is the Jupyter notebook version of the [Python in Hydrology](http://www.greenteapress.com/pythonhydro/pythonhydro.html) by Sat Kumar Tomer.*\n",
    "*Source code is available at [code.google.com](https://code.google.com/archive/p/python-in-hydrology/source).*\n",
    "\n",
    "*The book is available under the [GNU Free Documentation License](http://www.gnu.org/copyleft/fdl.html). If you have comments, corrections or suggestions, please send email to satkumartomer@gmail.com.*"
   ]
  },
  {
   "cell_type": "markdown",
   "metadata": {},
   "source": [
    "<!--NAVIGATION-->\n",
    "< [Why Python?](01.01-Why-Python.ipynb) | [Contents](Index.ipynb) | [Installing Additional Packages](01.03-Installing-Additional-Packages.ipynb) >"
   ]
  },
  {
   "cell_type": "markdown",
   "metadata": {},
   "source": [
    "## 1.2 Python安装\n",
    "\n",
    "通常所有的Linux/Unix操作系统都默认带有Python。如果不存在，或者是非linux/unix，可以根据接下来提供的指导下载基础的Python版本。基础的Python版本包含了满足python运行的最少量的安装包，以及其它额外的安装包。对于大多数水文学应用来说，这些安装包是远远不够的，因而我们需要额外的安装包。在接下来的部分，我将我将描述如何安装额外的安装包。在本书中，V形(`>>>`)表示Python shell，`$`表示Unix/Linux shell或windows命令行。不同操作系统中Python的安装按如下方式进行。\n",
    "\n",
    "### 1.2.1 Ubuntu/Debian\n",
    "\n",
    "在Ubuntu/Debian中，通过运行通常的安装指令来安装Python，即：\n",
    "\n",
    "```\n",
    "$ sudo apt-get install python\n",
    "```\n",
    "### 1.2.2 Fedora\n",
    "\n",
    "在Fedora上，按照如下方式安装Python:\n",
    "\n",
    "```\n",
    "$ sudo yum install python\n",
    "```\n",
    "### 1.2.3 FreeBSD\n",
    "\n",
    "在FreeBSD中运行如下指令来安装Python：\n",
    "\n",
    "```\n",
    "$ sudo pkg_add install python\n",
    "\n",
    "```\n",
    "Linux用户可能对`sudo`很熟悉，它允许用户使用root或administrator的安全权限来运行程序。window用户可以忽略`sudo`，因为他们不需要指定这个。\n",
    "\n",
    "### 1.2.4 Windows\n",
    "\n",
    "对于Windows用户来说，可以从`http://www.python.org/getit/`下载合适的版本。只需要双击提供的`.msi`文件就可轻易的安装。\n",
    "\n",
    "### 1.2.5 Mac OS\n",
    "\n",
    "Mac OS用户同样也可以从`http://www.python.org/getit/`下载合适的版本安装。"
   ]
  }
 ],
 "metadata": {
  "kernelspec": {
   "display_name": "Python 3",
   "language": "python",
   "name": "python3"
  },
  "language_info": {
   "codemirror_mode": {
    "name": "ipython",
    "version": 3
   },
   "file_extension": ".py",
   "mimetype": "text/x-python",
   "name": "python",
   "nbconvert_exporter": "python",
   "pygments_lexer": "ipython3",
   "version": "3.6.0"
  }
 },
 "nbformat": 4,
 "nbformat_minor": 2
}
