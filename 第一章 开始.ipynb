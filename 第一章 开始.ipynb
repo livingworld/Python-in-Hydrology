{
 "cells": [
  {
   "cell_type": "markdown",
   "metadata": {},
   "source": [
    "# 第一章\n",
    "\n",
    "# 开始\n",
    "\n",
    "## 1.1 为什么是Python？\n",
    "\n",
    "Python是一种简单和强大的编程语言。说它简单，我的意思是它比C这样的语言更为宽容，尽管C速度也很慢。说它强大，我的意思是它可以很容易的将胶水一样，将许多用C、C++、Fortran等语言编写的代码粘连起来。Python程序包是Python代码的主要主机(宿主)，已经列出了超过15,000个包，说明了它的受欢迎程度。与其他领域相比，在水文学社区使用Python并不那么快，但现在，许多新的水文程序包正在开发中。Python提供了GIS工具、数学、统计等的良好组合，使其成为水文学家的有用语言。以下是Python对水文学家的主要优势：\n",
    "\n",
    "- 1.清晰易读的语法。\n",
    "- 2.模块可以很容易地用C，C++编写。\n",
    "- 3.可以在所有主流平台(Windows,Linux/Uinx，Mac等)上使用。\n",
    "- 4.易于学习。\n",
    "- 5.而且是免费的。\n",
    "\n",
    "## 1.2 Python安装\n",
    "\n",
    "通常所有的Linux/Unix操作系统都默认带有Python。如果不存在，或者是非linux/unix，可以根据接下来提供的指导下载基础的Python版本。基础的Python版本包含了满足python运行的最少量的安装包，以及其它额外的安装包。对于大多数水文学应用来说，这些安装包是远远不够的，因而我们需要额外的安装包。在接下来的部分，我将我将描述如何安装额外的安装包。在本书中，V形(`>>>`)表示Python shell，`$`表示Unix/Linux shell或windows命令行。不同操作系统中Python的安装按如下方式进行。\n",
    "\n",
    "### 1.2.1 Ubuntu/Debian\n",
    "\n",
    "在Ubuntu/Debian中，通过运行通常的安装指令来安装Python，即：\n",
    "\n",
    "```\n",
    "$ sudo apt-get install python\n",
    "```\n",
    "### 1.2.2 Fedora\n",
    "\n",
    "在Fedora上，按照如下方式安装Python:\n",
    "\n",
    "```\n",
    "$ sudo yum install python\n",
    "```\n",
    "### 1.2.3 FreeBSD\n",
    "\n",
    "在FreeBSD中运行如下指令来安装Python：\n",
    "\n",
    "```\n",
    "$ sudo pkg_add install python\n",
    "\n",
    "```\n",
    "Linux用户可能对`sudo`很熟悉，它允许用户使用root或administrator的安全权限来运行程序。Window用户可以忽略`sudo`，因为他们不需要指定这个。"
   ]
  }
 ],
 "metadata": {
  "kernelspec": {
   "display_name": "Python 3",
   "language": "python",
   "name": "python3"
  },
  "language_info": {
   "codemirror_mode": {
    "name": "ipython",
    "version": 3
   },
   "file_extension": ".py",
   "mimetype": "text/x-python",
   "name": "python",
   "nbconvert_exporter": "python",
   "pygments_lexer": "ipython3",
   "version": "3.5.0"
  }
 },
 "nbformat": 4,
 "nbformat_minor": 2
}
