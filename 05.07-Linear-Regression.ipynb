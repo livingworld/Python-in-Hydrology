{
 "cells": [
  {
   "cell_type": "markdown",
   "metadata": {},
   "source": [
    "<!--BOOK_INFORMATION-->\n",
    "<img align=\"left\" style=\"padding-right:10px;\" src=\"figures/PHydro-cover-small.png\">\n",
    "*This is the Jupyter notebook version of the [Python in Hydrology](http://www.greenteapress.com/pythonhydro/pythonhydro.html) by Sat Kumar Tomer.*\n",
    "*Source code is available at [code.google.com](https://code.google.com/archive/p/python-in-hydrology/source).*\n",
    "\n",
    "*The book is available under the [GNU Free Documentation License](http://www.gnu.org/copyleft/fdl.html). If you have comments, corrections or suggestions, please send email to satkumartomer@gmail.com.*"
   ]
  },
  {
   "cell_type": "markdown",
   "metadata": {},
   "source": [
    "<!--NAVIGATION-->\n",
    "< [Measure of Statistical Dependence](05.06-Measure-of-Statistical-Dependence.ipynb) | [Contents](Index.ipynb) | [Polynomial Regression](05.08-Polynomial-Regression.ipynb) >"
   ]
  },
  {
   "cell_type": "markdown",
   "metadata": {},
   "source": [
    "## 5.7 线性回归\n",
    "\n",
    "线性回归是一种用线性函数来模拟两个变量之间关系的方法。我们将使用`st.linregress`函数进行线性回归。我们首先使用已知的线性模型生成一些虚拟数据，并使用正态分布随机变量添加一些噪音。除了模型系数之外，`linregress`还提供相关性、p值和标准误差的估计。"
   ]
  },
  {
   "cell_type": "code",
   "execution_count": 1,
   "metadata": {},
   "outputs": [
    {
     "name": "stdout",
     "output_type": "stream",
     "text": [
      "2.84221079098 7.09731123177\n"
     ]
    }
   ],
   "source": [
    "import numpy as np\n",
    "import scipy.stats as st\n",
    "# 生成数据\n",
    "n = 100 #数据长度\n",
    "x = np.random.rand(n)\n",
    "y = 3 + 7*x + np.random.randn(n)\n",
    "# 执行线性回归\n",
    "b,a,r,p,e = st.linregress(x,y)\n",
    "print(a,b)"
   ]
  },
  {
   "cell_type": "markdown",
   "metadata": {},
   "source": [
    "我们使用线性模型($y=3+7x+\\epsilon$)生成数据,而线性回归为($y=2.84+7.10x$)。拟合模型和真实模型的差异是因为噪音。当你增加更多的噪音时，你会看到拟合模型更加偏离现实。图5.13显示了真实线($y=3+7x$),损坏测量($y=3+7x+\\epsilon$),拟合线($y=2.84+7.1x$),和拟合线的预测区间。拟合线和真实线匹配合理。预测区间也相当合理。\n",
    "\n",
    "预测的$Y_pred$的方差由下式给出:\n",
    "\n",
    "<center>$\\sigma^2 = E[(Y_pred-\\widehat{Y})^2] = \\sigma_{\\epsilon}^2(1+\\frac{1}{n}+\\frac{(X_0-\\overline{X})^2}{\\sum_{i=1}^{n}(X - \\overline{X})^2})\\qquad$(5.1)<center>\n",
    "    \n",
    "其中，$\\sigma_{\\epsilon}^2$是由剩余方差的经典无偏估计的$s^2$估计的。$\\sigma_{pred}^2$是使用t分布与n-2自由度产生的预测区间(因为$s^2$是一个估计量)。在$Y_pred$置信区间由下式给出,\n",
    "\n",
    "<center>$PI = \\sigma_{pred}*z\\qquad$(5.2)</center>\n",
    "\n",
    "其中，$PI$是预测间距，$z$是t分布在$\\alpha$显著水平上的值。"
   ]
  },
  {
   "cell_type": "code",
   "execution_count": 2,
   "metadata": {},
   "outputs": [],
   "source": [
    "eps = y - a - b*x # 拟合数据和测量数据的误差\n",
    "x1 = np.linspace(0, 1) # x轴绘制PI\n",
    "# 拟合误差的方差\n",
    "e_pi = np.var(eps)*(1+1.0/n + (x1-x.mean())**2/np.sum((x-x.mean())**2))\n",
    "# z值使用t分布和dof = n-2\n",
    "z = st.t.ppf(0.95, n-2)\n",
    "# 预测间距\n",
    "pi = np.sqrt(e_pi)*z\n",
    "zl = st.t.ppf(0.10, n-2) # z在0.1\n",
    "zu = st.t.ppf(0.90, n-2) # z在0.9\n",
    "ll = a + b*x1 + np.sqrt(e_pi)*zl # 10 %\n",
    "ul = a + b*x1 + np.sqrt(e_pi)*zu # 90 %"
   ]
  },
  {
   "cell_type": "markdown",
   "metadata": {},
   "source": [
    "最终，我们可以绘制出真实线、拟合线、带噪音的损坏测量和预测区间。"
   ]
  },
  {
   "cell_type": "code",
   "execution_count": 4,
   "metadata": {
    "scrolled": false
   },
   "outputs": [
    {
     "data": {
      "image/png": "[encoded data removed]",
      "text/plain": [
       "<matplotlib.figure.Figure at 0x191daa2fb38>"
      ]
     },
     "metadata": {},
     "output_type": "display_data"
    }
   ],
   "source": [
    "import matplotlib.pyplot as plt\n",
    "plt.plot(x,y,'ro', label='measured')\n",
    "plt.plot(x1,ll,'--', label='10%')\n",
    "plt.plot(x1,ul,'--', label='90%')\n",
    "plt.xlabel('x')\n",
    "plt.ylabel('y')\n",
    "plt.legend(loc='best')\n",
    "plt.show()"
   ]
  }
 ],
 "metadata": {
  "kernelspec": {
   "display_name": "Python 3",
   "language": "python",
   "name": "python3"
  },
  "language_info": {
   "codemirror_mode": {
    "name": "ipython",
    "version": 3
   },
   "file_extension": ".py",
   "mimetype": "text/x-python",
   "name": "python",
   "nbconvert_exporter": "python",
   "pygments_lexer": "ipython3",
   "version": "3.5.4"
  }
 },
 "nbformat": 4,
 "nbformat_minor": 2
}
