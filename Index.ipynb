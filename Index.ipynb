{
 "cells": [
  {
   "cell_type": "markdown",
   "metadata": {
    "deletable": true,
    "editable": true
   },
   "source": [
    "# Python in Hydrology"
   ]
  },
  {
   "cell_type": "markdown",
   "metadata": {
    "deletable": true,
    "editable": true
   },
   "source": [
    "*Sat Kumar Tomer*\n",
    "\n",
    "![Book Cover](figures/PHydro-cover.png)"
   ]
  },
  {
   "cell_type": "markdown",
   "metadata": {
    "deletable": true,
    "editable": true
   },
   "source": [
    "*This is the Jupyter notebook version of the [Python in Hydrology](http://www.greenteapress.com/pythonhydro/pythonhydro.html) by Sat Kumar Tomer.Source code is available at [code.google.com](https://code.google.com/archive/p/python-in-hydrology/source).The book is available under the [GNU Free Documentation License](http://www.gnu.org/copyleft/fdl.html). If you have comments, corrections or suggestions, please send email to satkumartomer@gmail.com.*"
   ]
  },
  {
   "cell_type": "markdown",
   "metadata": {
    "deletable": true,
    "editable": true
   },
   "source": [
    "## Table of Contents\n",
    "\n",
    "### [Preface](00.00-Preface.ipynb)\n",
    "\n",
    "### [1. IPython: Getting Started](01.00-Getting-Started.ipynb)\n",
    "- [Why Python?](01.01-Why-Python.ipynb)\n",
    "- [Python Installation](01.02-Python-Installation.ipynb)\n",
    "- [Installing Additional Packages](01.03-Installing-Additional-Packages.ipynb)\n",
    "- [Interactive Development Environment](01.04-Interactive-evelopment-Environment.ipynb)\n",
    "- [Execute the Program](01.05-Execute-the-Program.ipynb)\n",
    "- [Type of Errors](01.06-Type-of-Errors.ipynb)\n",
    "- [The First Program](01.07-The-First-Program.ipynb)\n",
    "\n",
    "### [2. A Bit of Python](02.00-A-Bit-of-Python.ipynb)\n",
    "- [Data Types](02.01-Data-Types.ipynb)\n",
    "- [Data Structures](02.02-Data-Structures.ipynb)\n",
    "- [Choosing the Name of Variable](02.03-Choosing-the-Name-of-Variable.ipynb)\n",
    "- [Operators and Operands](02.04-Operators-and-Operands.ipynb)\n",
    "- [Expressions](02.05-Expressions.ipynb)\n",
    "- [Control Flows](02.06-Control-Flows.ipynb)\n",
    "- [Functions](02.07-Functions.ipynb)\n",
    "- [Plotting](02.08-Plotting.ipynb)\n",
    "\n",
    "### [3. Array](03.00-Array.ipynb)\n",
    "- [Generating Sequential Arrays](03.01-Generating-Sequential-Arrays.ipynb)\n",
    "- [Useful Attributes and Methods](03.02-Useful-Attributes-and-Methods.ipynb)\n",
    "- [Indexing](03.03-Indexing.ipynb)\n",
    "- [Array Manipulation](03.04-Array-Manipulation.ipynb)\n",
    "\n",
    "### [4. Basic Applications in Hydrology](04.00-Basic-Applications-in-Hydrology.ipynb)\n",
    "- [Introduction](04.01-Introduction.ipynb)\n",
    "- [Water Vapour](04.02-Water-Vapour.ipynb)\n",
    "- [Precipitation](04.03-Precipitation.ipynb)\n",
    "- [Rainfall](04.04-Rainfall.ipynb)\n",
    "- [Evaporation](04.05-Evaporation.ipynb)\n",
    "- [Inﬁltration](04.06-Inﬁltration.ipynb)\n",
    "- [Surface Water](04.07-Surface Water.ipynb)\n",
    "- [River Routing–Muskingum method](04.08-River-Routing-Muskingum-method.ipynb)\n",
    "\n",
    "### [5. Statistics](05.00-Statistics.ipynb)\n",
    "- [Empirical Distributions](05.01-Empirical-Distributions.ipynb)\n",
    "- [Theoretical Distributions](05.02-Theoretical-Distributions.ipynb)\n",
    "- [The t-Test](05.03-The-t-Test.ipynb)\n",
    "- [KS Test](05.04-KS-Test.ipynb)\n",
    "- [The Chi Square test](05.05-The-Chi-Square-test.ipynb)\n",
    "- [Measure of Statistical Dependence](05.06-Measure-of-Statistical-Dependence.ipynb)\n",
    "- [Linear Regression](05.07-Linear-Regression.ipynb)\n",
    "- [Polynomial Regression](05.08-Polynomial-Regression.ipynb)\n",
    "- [Interpolation](05.09-Interpolation.ipynb)\n",
    "- [Autocorrelation](05.10-Autocorrelation.ipynb)\n",
    "- [Uncertainty Intervals](05.11-Uncertainty-Intervals.ipynb)\n",
    "\n",
    "### [6. Statistics](06.00-Statistics.ipynb)\n",
    "- [Types of Spatial Data](06.01-Types-of-Spatial-Data.ipynb)\n",
    "- [Geoinformation](06.02-Geoinformation.ipynb)\n",
    "- [Writing Raster](06.03-Writing-Raster.ipynb)\n",
    "- [Writing Vector](06.04-Writing-Vector.ipynb)\n",
    "- [Reading the Raster](06.05-Reading-the-Raster.ipynb)\n",
    "- [Reading the Vector](06.06-Reading-the-Vector.ipynb)\n",
    "- [Filtering](06.07-Filtering.ipynb)\n",
    "- [NDVI](06.08-NDVI.ipynb)\n",
    "- [Calling GDAL as External Command](06.09-Calling-GDAL-as-External-Command.ipynb)\n",
    "- [Unsupervised Classiﬁcation](06.10-Unsupervised-Classiﬁcation.ipynb)\n",
    "\n",
    "### [7. Plotting](07.00-Plotting.ipynb)\n",
    "- [Date Axis](07.01-Date-Axis.ipynb)\n",
    "- [Bar Charts](07.02-Bar-Charts.ipynb)\n",
    "- [Pie Charts](07.03-Pie-Charts.ipynb)\n",
    "- [2D Plotsr](07.04-2D-Plotsr.ipynb)\n",
    "- [3D Plotsr](07.05-3D Plotsr.ipynb)\n",
    "- [Box-Plot](07.06-Box-Plot.ipynb)\n",
    "- [Q-Q Plot](07.07-Q-Q-Plot.ipynb)\n",
    "- [Plotyy](07.08-Plotyy.ipynb)\n",
    "- [Annotation](07.09-Annotation.ipynb)\n",
    "- [Basemap](07.10-Basemap.ipynb)\n",
    "- [Shared Axis](07.11-Shared-Axis.ipynb)\n",
    "- [Subplot](07.12-Subplot.ipynb)\n",
    "\n",
    "### [8. Input-Output](08.00-Input-Output.ipynb)\n",
    "- [Xls](08.01-Xls.ipynb)\n",
    "- [Text-File](08.02-Text-File.ipynb)\n",
    "- [NetCDF](08.03-NetCDF.ipynb)\n",
    "- [Pickle](08.04-Pickle.ipynb)\n",
    "\n",
    "### [9.Numerical Modelling](09.00-Numerical-Modelling.ipynb)\n",
    "- [Integration](09.01-Integration.ipynb)\n",
    "- [ODE](09.02-ODE.ipynb)\n",
    "- [Parameter Estimation](09.03-Parameter-Estimation.ipynb)\n",
    "\n",
    "### [10. Advance Statistics](10.00-Advance-Statistics.ipynb)\n",
    "- [Copula](010.01-Copula.ipynb)\n",
    "- [Multivariate Distribution](010.02-Multivariate-Distribution.ipynb)\n",
    "- [Kriging](010.03-Kriging.ipynb)\n",
    "- [Bias Correction](010.04-Bias-Correction.ipynb)\n",
    "- [PCA](010.05-PCA.ipynb)\n",
    "- [Kalman Filtering](010.06-Kalman-Filtering.ipynb)\n",
    "\n",
    "### [Appendix A: GNU Free Documentation License](11.00-GNU-Free-Documentation-License.ipynb)\n",
    "\n",
    "### [Appendix B: Install library](11.00-Install library.ipynb)\n",
    "- [Basemap](B.01-Basemap.ipynb)"
   ]
  }
 ],
 "metadata": {
  "anaconda-cloud": {},
  "kernelspec": {
   "display_name": "Python 2",
   "language": "python",
   "name": "python2"
  },
  "language_info": {
   "codemirror_mode": {
    "name": "ipython",
    "version": 2
   },
   "file_extension": ".py",
   "mimetype": "text/x-python",
   "name": "python",
   "nbconvert_exporter": "python",
   "pygments_lexer": "ipython2",
   "version": "2.7.13"
  }
 },
 "nbformat": 4,
 "nbformat_minor": 1
}
