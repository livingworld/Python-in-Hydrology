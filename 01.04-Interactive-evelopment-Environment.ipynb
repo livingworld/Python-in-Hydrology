{
 "cells": [
  {
   "cell_type": "markdown",
   "metadata": {},
   "source": [
    "<!--BOOK_INFORMATION-->\n",
    "<img align=\"left\" style=\"padding-right:10px;\" src=\"figures/PHydro-cover-small.png\">\n",
    "*This is the Jupyter notebook version of the [Python in Hydrology](http://www.greenteapress.com/pythonhydro/pythonhydro.html) by Sat Kumar Tomer.*\n",
    "*Source code is available at [code.google.com](https://code.google.com/archive/p/python-in-hydrology/source).*\n",
    "\n",
    "*The book is available under the [GNU Free Documentation License](http://www.gnu.org/copyleft/fdl.html). If you have comments, corrections or suggestions, please send email to satkumartomer@gmail.com.*"
   ]
  },
  {
   "cell_type": "markdown",
   "metadata": {},
   "source": [
    "<!--NAVIGATION-->\n",
    "< [Installing Additional Packages](01.03-Installing-Additional-Packages.ipynb) | [Contents](Index.ipynb) | [Execute the Program](01.05-Execute-the-Program.ipynb) >"
   ]
  },
  {
   "cell_type": "markdown",
   "metadata": {},
   "source": [
    "## 1.4 交互式开发环境\n",
    "\n",
    "简单的文本编辑器就可以编写Python程序，但它们不提供简单的文本格式化，调试等选项。IDE(Interactive Development Environment)提供了很多选项可以用Python的方式快速格式化程序，并且便捷的进行调试。有许多不同的IDE可供使用，例如PyDev,Spyder,IDLE等等。这些IDE的清单可以在`http://wiki.python.org/moin/IntegratedDevelopmentEnvironments`中找到。我正在使用Spyder进行我的工作，它跟MATLAB很相似。使用Spyder的理由是由于之前我使用过MATLAB，而Spyder与之相似，我发现自己也熟悉它。但是，你可以使用任何IDE，熟悉之后，使用哪一个并不重要。"
   ]
  }
 ],
 "metadata": {
  "kernelspec": {
   "display_name": "Python 3",
   "language": "python",
   "name": "python3"
  },
  "language_info": {
   "codemirror_mode": {
    "name": "ipython",
    "version": 3
   },
   "file_extension": ".py",
   "mimetype": "text/x-python",
   "name": "python",
   "nbconvert_exporter": "python",
   "pygments_lexer": "ipython3",
   "version": "3.5.0"
  }
 },
 "nbformat": 4,
 "nbformat_minor": 2
}
