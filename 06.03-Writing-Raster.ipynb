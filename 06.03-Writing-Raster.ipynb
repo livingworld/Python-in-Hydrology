{
 "cells": [
  {
   "cell_type": "markdown",
   "metadata": {},
   "source": []
  },
  {
   "cell_type": "markdown",
   "metadata": {},
   "source": []
  },
  {
   "cell_type": "markdown",
   "metadata": {},
   "source": [
    "## 6.3 写入栅格\n",
    "\n",
    "有许多不同的方式存储栅格数据；Geotiff是最常使用的。我们将使用`gdal`库来读取和写入栅格数据。检查你是否通过键入`import gdal`命令安装了`gdal`库。如果你得到一些错误，则事情在控制范围内，否则的话去`http://trac.osgeo.org/gdal/wiki/DownloadSource`，下载和安装最新版本。让我们先写入数据在GeoTIFF格式。首先我们写入数据不带噪音。"
   ]
  },
  {
   "cell_type": "code",
   "execution_count": 5,
   "metadata": {},
   "outputs": [],
   "source": [
    "import gdal\n",
    "import numpy as np\n",
    "X, Y = np.mgrid[0:101, 0:101]\n",
    "data = np.sin((X**2 + Y**2)/25)\n",
    "data_noisy = data + np.random.random(X.shape)\n",
    "driver = gdal.GetDriverByName('GTiff')\n",
    "file_name = \"datas/data.tif\"\n",
    "dataset = driver.Create(file_name, data.shape[1], data.shape[0], 1,gdal.GDT_Float32)\n",
    "dataset.SetGeoTransform((664000.0, 100.0, 0.0, 1309000.0, 0.0, -100.0))\n",
    "dataset.GetRasterBand(1).WriteArray(data, 0, 0)\n",
    "dataset = None"
   ]
  },
  {
   "cell_type": "markdown",
   "metadata": {},
   "source": [
    "我们先创建驱动，要求它创建GTIFF文件。其他类型的格式也可以创建。`gdal`支持一列表的格式，它们用来创建驱动的代码被列在`http://www.gdal.org/formats_list.html`，便携的网络图形代码是PND。然后我们创建数据库，即我们在电脑中通过键入指令`driver.Create`创建文件。`Greate`的输入需要文件名、数据大小、数据中的带数、数据格式。然后我们通过键入`SetGeoTransform`指令定义地理信息。最终，我们使用`GetRasterBand`方法键入数据。通过定义数据集为`None`来关闭数据是一个很好的习惯。如果指定文件名的路径不存在，它会返回None，而且如果在它上面执行其他操作，也会出错。\n",
    "\n",
    "在相似的方法中，我们可以写入带噪音污染的数据。"
   ]
  },
  {
   "cell_type": "code",
   "execution_count": 6,
   "metadata": {},
   "outputs": [],
   "source": [
    "driver = gdal.GetDriverByName('GTiff')\n",
    "file_name = \"datas/data_noisy.tif\"\n",
    "dataset = driver.Create(file_name, data_noisy.shape[1], data_noisy.shape[0], 1, gdal.GDT_Float32)\n",
    "dataset.SetGeoTransform((664000.0, 100.0, 0.0, 1309000.0, 0.0, -100.0))\n",
    "dataset.GetRasterBand(1).WriteArray(data_noisy, 0, 0)\n",
    "dataset = None"
   ]
  }
 ],
 "metadata": {
  "kernelspec": {
   "display_name": "Python 3",
   "language": "python",
   "name": "python3"
  },
  "language_info": {
   "codemirror_mode": {
    "name": "ipython",
    "version": 3
   },
   "file_extension": ".py",
   "mimetype": "text/x-python",
   "name": "python",
   "nbconvert_exporter": "python",
   "pygments_lexer": "ipython3",
   "version": "3.5.4"
  }
 },
 "nbformat": 4,
 "nbformat_minor": 2
}
