{
 "cells": [
  {
   "cell_type": "markdown",
   "metadata": {},
   "source": [
    "<!--BOOK_INFORMATION-->\n",
    "<img align=\"left\" style=\"padding-right:10px;\" src=\"figures/PHydro-cover-small.png\">\n",
    "*This is the Jupyter notebook version of the [Python in Hydrology](http://www.greenteapress.com/pythonhydro/pythonhydro.html) by Sat Kumar Tomer.*\n",
    "*Source code is available at [code.google.com](https://code.google.com/archive/p/python-in-hydrology/source).*\n",
    "\n",
    "*The book is available under the [GNU Free Documentation License](http://www.gnu.org/copyleft/fdl.html). If you have comments, corrections or suggestions, please send email to satkumartomer@gmail.com.*"
   ]
  },
  {
   "cell_type": "markdown",
   "metadata": {},
   "source": [
    "<!--NAVIGATION-->\n",
    "| [Contents](Index.ipynb) | [1. IPython: Getting Started](01.00-Getting-Started.ipynb) >"
   ]
  },
  {
   "cell_type": "markdown",
   "metadata": {},
   "source": [
    "# 前言\n",
    "\n",
    "## 历史\n",
    "\n",
    "我于2010年6月开始使用Python。那时我正在寻找一种开源以及能结合各种代码、模块、软件的编程语言，我碰巧遇到了Python和Perl，尽管那时有许多其他的选择。我在Google上检索了Python和Perl在通用科学领域的用法，包括水文学、地理信息系统(GIS)、统计学，不论如何，我发现Python是我需要的一门语言。我不清楚自己关于Python和Perl进行对比后得到的结论是否正确？但我非常高兴选择了Python，它充分满足了我的需求。\n",
    "\n",
    "在使用Python两到三个月后，我喜爱上了开源，开始使用仅属于开源世界的软件，并且告别了Windows，ArcGis，MATLAB。即便过去了一年，我也未曾想念过它们。我觉得我也应该对这个免费的世界做些什么了。我尝试着在少数的几个领域做出贡献，但却很难有所突破，原因是在这些领域我的知识相对不足。在使用Python长达一年后，我觉得该对Python世界做些贡献了。我为Python写了几个小的package，并且开始了本书的写作。\n",
    "\n",
    "我总是很害怕看书，尤其是那些超过二百页的书。我并不记得是否完全读完过任何超过二百页的书。尽管我读过的书单非常少，即便是那些少于二百页的书。我并不喜欢书中的大部分内容，而是喜欢从书中的例子中学习。我是一名学生，并非教授，除了我的感受之外,我不知道学生都喜欢什么，我知道许多同学都不喜欢。\n",
    "\n",
    "Sat Kumar Tomer\n",
    "印度班加罗尔\n",
    "\n",
    "Sat Kumar Tomer是印度班加罗尔印度科学研究所土木工程系的博士生。\n",
    "\n",
    "## 致谢\n",
    "\n",
    "我很感谢您阅读这本书，并希望得到您的反馈。\n",
    "\n",
    "我很感谢Allen B.Downey，他为我的书提供了latext源代码，帮助我更好的格式化这本书。\n",
    "\n",
    "除此之外，他还写了一本很好的书，书名是《像计算机科学家一样思考Python》，这鼓励我写这本书。我从他的书中复制了许多句子，主要是关于Python的基础，我感谢自由软件基金会开发GNU自由文档许可证。\n",
    "\n",
    "我感谢Green Tea Press。\n",
    "\n",
    "我感谢我的朋友Aditya Singh，Ganjendara Yadav，Himanshu Joshi，Katarina Turcekova，Shadi Davarian和Shobhit Khatyan对我持续的支持。\n",
    "\n",
    "## 贡献者列表\n",
    "\n",
    "如果您有任何建议或更正，请发送邮件至satkumartomer@gmail.com。如果我根据您的反馈进行更改，我会将您添加到贡献者列表中(除非您要求省略)。\n",
    "\n",
    "如果你有至少一部分的句子中出现错误，那么我就很容易搜索了。页面和章节编号也是很好的，但是却不那么容易。谢谢！"
   ]
  }
 ],
 "metadata": {
  "kernelspec": {
   "display_name": "Python 3",
   "language": "python",
   "name": "python3"
  },
  "language_info": {
   "codemirror_mode": {
    "name": "ipython",
    "version": 3
   },
   "file_extension": ".py",
   "mimetype": "text/x-python",
   "name": "python",
   "nbconvert_exporter": "python",
   "pygments_lexer": "ipython3",
   "version": "3.5.0"
  }
 },
 "nbformat": 4,
 "nbformat_minor": 2
}
