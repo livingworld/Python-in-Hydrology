{
 "cells": [
  {
   "cell_type": "markdown",
   "metadata": {},
   "source": []
  },
  {
   "cell_type": "markdown",
   "metadata": {},
   "source": []
  },
  {
   "cell_type": "markdown",
   "metadata": {},
   "source": [
    "### [6. Spatial Data](06.00-Spatial-Data.ipynb)\n",
    "- [Types of Spatial Data](06.01-Types-of-Spatial-Data.ipynb)\n",
    "- [Geoinformation](06.02-Geoinformation.ipynb)\n",
    "- [Writing Raster](06.03-Writing-Raster.ipynb)\n",
    "- [Writing Vector](06.04-Writing-Vector.ipynb)\n",
    "- [Reading the Raster](06.05-Reading-the-Raster.ipynb)\n",
    "- [Reading the Vector](06.06-Reading-the-Vector.ipynb)\n",
    "- [Filtering](06.07-Filtering.ipynb)\n",
    "- [NDVI](06.08-NDVI.ipynb)\n",
    "- [Calling GDAL as External Command](06.09-Calling-GDAL-as-External-Command.ipynb)\n",
    "- [Unsupervised Classiﬁcation](06.10-Unsupervised-Classiﬁcation.ipynb)"
   ]
  },
  {
   "cell_type": "code",
   "execution_count": null,
   "metadata": {},
   "outputs": [],
   "source": []
  },
  {
   "cell_type": "code",
   "execution_count": null,
   "metadata": {},
   "outputs": [],
   "source": []
  }
 ],
 "metadata": {
  "kernelspec": {
   "display_name": "Python 3",
   "language": "python",
   "name": "python3"
  },
  "language_info": {
   "codemirror_mode": {
    "name": "ipython",
    "version": 3
   },
   "file_extension": ".py",
   "mimetype": "text/x-python",
   "name": "python",
   "nbconvert_exporter": "python",
   "pygments_lexer": "ipython3",
   "version": "3.5.4"
  }
 },
 "nbformat": 4,
 "nbformat_minor": 2
}
