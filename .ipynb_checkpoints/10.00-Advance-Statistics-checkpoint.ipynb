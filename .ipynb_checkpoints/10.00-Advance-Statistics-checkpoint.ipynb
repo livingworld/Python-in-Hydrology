{
 "cells": [
  {
   "cell_type": "markdown",
   "metadata": {},
   "source": [
    "<!--BOOK_INFORMATION-->\n",
    "<img align=\"left\" style=\"padding-right:10px;\" src=\"figures/PHydro-cover-small.png\">\n",
    "*This is the Jupyter notebook version of the [Python in Hydrology](http://www.greenteapress.com/pythonhydro/pythonhydro.html) by Sat Kumar Tomer.*\n",
    "*Source code is available at [code.google.com](https://code.google.com/archive/p/python-in-hydrology/source).*\n",
    "\n",
    "*The book is available under the [GNU Free Documentation License](http://www.gnu.org/copyleft/fdl.html). If you have comments, corrections or suggestions, please send email to satkumartomer@gmail.com.*"
   ]
  },
  {
   "cell_type": "markdown",
   "metadata": {},
   "source": [
    "<!--NAVIGATION-->\n",
    "< [Parameter Estimation](09.03-Parameter-Estimation.ipynb) | [Contents](Index.ipynb) | [Copula](10.01-Copula.ipynb) >"
   ]
  },
  {
   "cell_type": "markdown",
   "metadata": {},
   "source": [
    "# 第10章\n",
    "## 高级统计\n",
    "\n",
    "### [10. Advance Statistics](10.00-Advance-Statistics.ipynb)\n",
    "- [Copula](010.01-Copula.ipynb)\n",
    "- [Multivariate Distribution](010.02-Multivariate-Distribution.ipynb)\n",
    "- [Kriging](010.03-Kriging.ipynb)\n",
    "- [Bias Correction](010.04-Bias-Correction.ipynb)\n",
    "- [PCA](010.05-PCA.ipynb)\n",
    "- [Kalman Filtering](010.06-Kalman-Filtering.ipynb)"
   ]
  }
 ],
 "metadata": {
  "kernelspec": {
   "display_name": "Python 3",
   "language": "python",
   "name": "python3"
  },
  "language_info": {
   "codemirror_mode": {
    "name": "ipython",
    "version": 3
   },
   "file_extension": ".py",
   "mimetype": "text/x-python",
   "name": "python",
   "nbconvert_exporter": "python",
   "pygments_lexer": "ipython3",
   "version": "3.5.4"
  }
 },
 "nbformat": 4,
 "nbformat_minor": 2
}
