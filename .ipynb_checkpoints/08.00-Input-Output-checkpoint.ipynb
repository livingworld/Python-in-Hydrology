{
 "cells": [
  {
   "cell_type": "markdown",
   "metadata": {},
   "source": []
  },
  {
   "cell_type": "markdown",
   "metadata": {},
   "source": []
  },
  {
   "cell_type": "markdown",
   "metadata": {},
   "source": [
    "# 第八章\n",
    "## 输入-输出\n",
    "\n",
    "### [8. Input-Output](08.00-Input-Output.ipynb)\n",
    "- [Xls](08.01-Xls.ipynb)\n",
    "- [Text-File](08.02-Text-File.ipynb)\n",
    "- [NetCDF](08.03-NetCDF.ipynb)\n",
    "- [Pickle](08.04-Pickle.ipynb)"
   ]
  }
 ],
 "metadata": {
  "kernelspec": {
   "display_name": "Python 3",
   "language": "python",
   "name": "python3"
  },
  "language_info": {
   "codemirror_mode": {
    "name": "ipython",
    "version": 3
   },
   "file_extension": ".py",
   "mimetype": "text/x-python",
   "name": "python",
   "nbconvert_exporter": "python",
   "pygments_lexer": "ipython3",
   "version": "3.5.4"
  }
 },
 "nbformat": 4,
 "nbformat_minor": 2
}
