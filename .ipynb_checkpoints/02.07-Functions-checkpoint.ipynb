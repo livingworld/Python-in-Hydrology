{
 "cells": [
  {
   "cell_type": "markdown",
   "metadata": {},
   "source": [
    "<!--BOOK_INFORMATION-->\n",
    "<img align=\"left\" style=\"padding-right:10px;\" src=\"figures/PHydro-cover-small.png\">\n",
    "*This is the Jupyter notebook version of the [Python in Hydrology](http://www.greenteapress.com/pythonhydro/pythonhydro.html) by Sat Kumar Tomer.*\n",
    "*Source code is available at [code.google.com](https://code.google.com/archive/p/python-in-hydrology/source).*\n",
    "\n",
    "*The book is available under the [GNU Free Documentation License](http://www.gnu.org/copyleft/fdl.html). If you have comments, corrections or suggestions, please send email to satkumartomer@gmail.com.*"
   ]
  },
  {
   "cell_type": "markdown",
   "metadata": {},
   "source": [
    "<!--NAVIGATION-->\n",
    "< [Control Flows](02.06-Control-Flows.ipynb) | [Contents](Index.ipynb) | [Plotting](02.08-Plotting.ipynb) >"
   ]
  },
  {
   "cell_type": "markdown",
   "metadata": {},
   "source": [
    "## 2.7 函数\n",
    "\n",
    "函数是一些处理某些进程的语句序列。当你定义一个函数时，你需要指定名称和语句的顺序。之后，你可以通过该名称来调用函数。Python中许多内置的函数，每个库都提供一些函数。你也可以指定你的函数，当你需要多次执行一些任务时，最好是定义函数来完成这些任务，然后调用函数。首要的原则是，无论何时在你想定义一个函数时就去定义它。"
   ]
  },
  {
   "cell_type": "markdown",
   "metadata": {},
   "source": [
    "### 2.7.1 内置函数\n",
    "\n",
    "Python有许多内置函数，有一些我们已经使用过了。"
   ]
  },
  {
   "cell_type": "code",
   "execution_count": 12,
   "metadata": {},
   "outputs": [
    {
     "data": {
      "text/plain": [
       "list"
      ]
     },
     "execution_count": 12,
     "metadata": {},
     "output_type": "execute_result"
    }
   ],
   "source": [
    "foo = [5,-11,14,0,-6,0,8] #定义数组\n",
    "type(foo)"
   ]
  },
  {
   "cell_type": "code",
   "execution_count": 13,
   "metadata": {},
   "outputs": [
    {
     "data": {
      "text/plain": [
       "7"
      ]
     },
     "execution_count": 13,
     "metadata": {},
     "output_type": "execute_result"
    }
   ],
   "source": [
    "len(foo)"
   ]
  },
  {
   "cell_type": "code",
   "execution_count": 15,
   "metadata": {},
   "outputs": [
    {
     "data": {
      "text/plain": [
       "14"
      ]
     },
     "execution_count": 15,
     "metadata": {},
     "output_type": "execute_result"
    }
   ],
   "source": [
    "max(foo)"
   ]
  },
  {
   "cell_type": "markdown",
   "metadata": {},
   "source": [
    "在这里，`type`、`len`、`max`都是内置函数，它们分别返回列表的类型、长度，以及列表中的最大值。"
   ]
  },
  {
   "cell_type": "markdown",
   "metadata": {},
   "source": [
    "### 2.7.3 自定义函数\n",
    "\n",
    "如果你找不到你想要使用的函数，你可以定义一个。实际上，在需要的时候定义函数是一个很好的实践，它增加了代码的可读性。函数定义指定了新的函数名称和调用函数时执行的语句序列。\n",
    "\n",
    "假设，你想要定义一个将`2`与输入相加的函数。"
   ]
  },
  {
   "cell_type": "code",
   "execution_count": 16,
   "metadata": {},
   "outputs": [
    {
     "data": {
      "text/plain": [
       "7"
      ]
     },
     "execution_count": 16,
     "metadata": {},
     "output_type": "execute_result"
    }
   ],
   "source": [
    "def add2(temp):\n",
    "    return temp + 2\n",
    "\n",
    "add2(5)"
   ]
  },
  {
   "cell_type": "code",
   "execution_count": 18,
   "metadata": {},
   "outputs": [
    {
     "name": "stdout",
     "output_type": "stream",
     "text": [
      "[ 7 -9 16  2 -4  2 10]\n"
     ]
    }
   ],
   "source": [
    "import numpy as np\n",
    "foo = np.array([5,-11,14,0,-6,0,8]) #定义数组\n",
    "new_too = add2(foo)\n",
    "print(new_too)"
   ]
  },
  {
   "cell_type": "markdown",
   "metadata": {},
   "source": [
    "`return`定义了函数的输出。`return`是个可选项，一些函数可能不会返回任何东西。"
   ]
  },
  {
   "cell_type": "code",
   "execution_count": 19,
   "metadata": {},
   "outputs": [
    {
     "name": "stdout",
     "output_type": "stream",
     "text": [
      "10\n"
     ]
    }
   ],
   "source": [
    "foo = [5,-11,14,0,-6,0,8] #定义数组\n",
    "def add2(temp):\n",
    "    print(temp[-1]+2) #2与列表最后项相加\n",
    "    \n",
    "add2(foo)"
   ]
  },
  {
   "cell_type": "code",
   "execution_count": 23,
   "metadata": {},
   "outputs": [
    {
     "name": "stdout",
     "output_type": "stream",
     "text": [
      "10\n"
     ]
    }
   ],
   "source": [
    "new_foo = add2(foo)"
   ]
  },
  {
   "cell_type": "code",
   "execution_count": 27,
   "metadata": {
    "collapsed": true
   },
   "outputs": [],
   "source": [
    "new_foo"
   ]
  },
  {
   "cell_type": "markdown",
   "metadata": {},
   "source": [
    "从这个例子很明显，函数不需要返回任何值。就像这个例子，函数只打印列表最后一项与2相加之后的数，并没有返回什么。"
   ]
  },
  {
   "cell_type": "markdown",
   "metadata": {},
   "source": [
    "## 2.8 绘图\n",
    "\n",
    "在Python中提供了各种有绘图能力的库。我喜欢`Matplotlib`库，通过以下方式安装：\n",
    "\n",
    "```\n",
    "$ sudo pip install matplotlib\n",
    "```\n",
    "\n",
    "让我们绘制第一张y与x的关系曲线图。x包含了0到2π之间50等分的值，$y=sin(x)$。\n"
   ]
  },
  {
   "cell_type": "code",
   "execution_count": 28,
   "metadata": {
    "scrolled": true
   },
   "outputs": [
    {
     "data": {
      "image/png": "[encoded data removed]",
      "text/plain": [
       "<matplotlib.figure.Figure at 0xa4af7810f0>"
      ]
     },
     "metadata": {},
     "output_type": "display_data"
    }
   ],
   "source": [
    "# 导入依赖库\n",
    "import numpy as np\n",
    "import matplotlib.pyplot as plt\n",
    "# 生成x从0到2π等分为50份的区间范围\n",
    "x = np.linspace(0,2*np.pi,50)\n",
    "y = np.sin(x) #计算sin(x)\n",
    "plt.plot(x,y)\n",
    "plt.xlabel('x')\n",
    "plt.ylabel('y')\n",
    "plt.legend(['sin(x)'])\n",
    "plt.show()"
   ]
  },
  {
   "cell_type": "markdown",
   "metadata": {},
   "source": [
    "`plt`是给定的缩写名称，它是指`matplot.pyplot`库。该库中所有的函数在需要时，应该使用`plt.`来调用。`plot`绘制连续的线型图，`xlabel`表示x轴的标签，`ylabel`表示y轴的标签。`legend`在图标中显示图例，`show()`用于显示图表，可以使用`savefig`保存图形，可以使用`close()`关闭图形。如上图展示了y与x的关系曲线。函数`np.linspace`用于生成0到2π范围内具有50等份的向量。关于生成这种向量的更多内容在下一章给出。"
   ]
  },
  {
   "cell_type": "markdown",
   "metadata": {},
   "source": [
    "# 第三章\n",
    "# 数组\n",
    "\n",
    "## 3.1生成连续数组\n",
    "\n",
    "通常我们需要向量遵循简单的顺序，例如，包含元素[10,11,12,13]或[5,10,15,20]或[1.0,1.2,1.4,1.6,1.8,2.0]的向量。我们看到，在这些向量中，元素遵循一些简单的顺序，所以如果有简单的方法来定义这些向量就更好了。一些创建这些向量的方法如下：\n",
    "\n",
    "### 3.1.1 linspace\n",
    "\n",
    "\n"
   ]
  },
  {
   "cell_type": "code",
   "execution_count": null,
   "metadata": {
    "collapsed": true
   },
   "outputs": [],
   "source": []
  }
 ],
 "metadata": {
  "kernelspec": {
   "display_name": "Python 3",
   "language": "python",
   "name": "python3"
  },
  "language_info": {
   "codemirror_mode": {
    "name": "ipython",
    "version": 3
   },
   "file_extension": ".py",
   "mimetype": "text/x-python",
   "name": "python",
   "nbconvert_exporter": "python",
   "pygments_lexer": "ipython3",
   "version": "3.5.0"
  }
 },
 "nbformat": 4,
 "nbformat_minor": 2
}
