{
 "cells": [
  {
   "cell_type": "markdown",
   "metadata": {},
   "source": [
    "<!--BOOK_INFORMATION-->\n",
    "<img align=\"left\" style=\"padding-right:10px;\" src=\"figures/PHydro-cover-small.png\">\n",
    "*This is the Jupyter notebook version of the [Python in Hydrology](http://www.greenteapress.com/pythonhydro/pythonhydro.html) by Sat Kumar Tomer.*\n",
    "*Source code is available at [code.google.com](https://code.google.com/archive/p/python-in-hydrology/source).*\n",
    "\n",
    "*The book is available under the [GNU Free Documentation License](http://www.gnu.org/copyleft/fdl.html). If you have comments, corrections or suggestions, please send email to satkumartomer@gmail.com.*"
   ]
  },
  {
   "cell_type": "markdown",
   "metadata": {},
   "source": [
    "<!--NAVIGATION-->\n",
    "< [Array Manipulation](03.04-Array-Manipulation.ipynb) | [Contents](Index.ipynb) | [Introduction](04.01-Introduction.ipynb) >"
   ]
  },
  {
   "cell_type": "markdown",
   "metadata": {},
   "source": [
    "### [4. Basic Applications in Hydrology](04.00-Basic-Applications-in-Hydrology.ipynb)\n",
    "- [Introduction](04.01-Introduction.ipynb)\n",
    "- [Water Vapour](04.02-Water-Vapour.ipynb)\n",
    "- [Precipitation](04.03-Precipitation.ipynb)\n",
    "- [Rainfall](04.04-Rainfall.ipynb)\n",
    "- [Evaporation](04.05-Evaporation.ipynb)\n",
    "- [Inﬁltration](04.06-Inﬁltration.ipynb)\n",
    "- [Surface Water](04.07-Surface Water.ipynb)\n",
    "- [River Routing–Muskingum method](04.08-River-Routing-Muskingum-method.ipynb)"
   ]
  }
 ],
 "metadata": {
  "kernelspec": {
   "display_name": "Python 3",
   "language": "python",
   "name": "python3"
  },
  "language_info": {
   "codemirror_mode": {
    "name": "ipython",
    "version": 3
   },
   "file_extension": ".py",
   "mimetype": "text/x-python",
   "name": "python",
   "nbconvert_exporter": "python",
   "pygments_lexer": "ipython3",
   "version": "3.6.0"
  }
 },
 "nbformat": 4,
 "nbformat_minor": 2
}
