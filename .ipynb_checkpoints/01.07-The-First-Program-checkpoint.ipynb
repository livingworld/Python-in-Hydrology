{
 "cells": [
  {
   "cell_type": "markdown",
   "metadata": {},
   "source": [
    "<!--BOOK_INFORMATION-->\n",
    "<img align=\"left\" style=\"padding-right:10px;\" src=\"figures/PHydro-cover-small.png\">\n",
    "*This is the Jupyter notebook version of the [Python in Hydrology](http://www.greenteapress.com/pythonhydro/pythonhydro.html) by Sat Kumar Tomer.*\n",
    "*Source code is available at [code.google.com](https://code.google.com/archive/p/python-in-hydrology/source).*\n",
    "\n",
    "*The book is available under the [GNU Free Documentation License](http://www.gnu.org/copyleft/fdl.html). If you have comments, corrections or suggestions, please send email to satkumartomer@gmail.com.*"
   ]
  },
  {
   "cell_type": "markdown",
   "metadata": {},
   "source": [
    "<!--NAVIGATION-->\n",
    "< [Type of Errors](01.06-Type-of-Errors.ipynb) | [Contents](Index.ipynb) | [2. A Bit of Python](02.00-A-Bit-of-Python.ipynb) >"
   ]
  },
  {
   "cell_type": "markdown",
   "metadata": {},
   "source": [
    "## 1.7 第一个程序\n",
    "\n",
    "传统上讲，你用新语言编写的第一个程序名为\"Hello,World!\"。因为它所做的只是显示\"Hello,World!\"这句话。在Python中，它看起来像这样：\n",
    "\n",
    "```\n",
    "print('Hello,World!')\n",
    "```\n",
    "这是`print`语句的一个例子，它实际上并没有在纸上打印任何东西，而是将值显示在屏幕中。在这种情况下，结果是这句话：\n",
    "\n",
    "```\n",
    "Hello,World!\n",
    "```\n",
    "\n",
    "程序中的引号标记字符串的开头和结尾。\n"
   ]
  }
 ],
 "metadata": {
  "kernelspec": {
   "display_name": "Python 3",
   "language": "python",
   "name": "python3"
  },
  "language_info": {
   "codemirror_mode": {
    "name": "ipython",
    "version": 3
   },
   "file_extension": ".py",
   "mimetype": "text/x-python",
   "name": "python",
   "nbconvert_exporter": "python",
   "pygments_lexer": "ipython3",
   "version": "3.5.0"
  }
 },
 "nbformat": 4,
 "nbformat_minor": 2
}
