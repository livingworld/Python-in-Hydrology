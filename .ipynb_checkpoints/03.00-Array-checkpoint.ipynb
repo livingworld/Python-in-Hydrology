{
 "cells": [
  {
   "cell_type": "markdown",
   "metadata": {},
   "source": [
    "<!--BOOK_INFORMATION-->\n",
    "<img align=\"left\" style=\"padding-right:10px;\" src=\"figures/PHydro-cover-small.png\">\n",
    "*This is the Jupyter notebook version of the [Python in Hydrology](http://www.greenteapress.com/pythonhydro/pythonhydro.html) by Sat Kumar Tomer.*\n",
    "*Source code is available at [code.google.com](https://code.google.com/archive/p/python-in-hydrology/source).*\n",
    "\n",
    "*The book is available under the [GNU Free Documentation License](http://www.gnu.org/copyleft/fdl.html). If you have comments, corrections or suggestions, please send email to satkumartomer@gmail.com.*"
   ]
  },
  {
   "cell_type": "markdown",
   "metadata": {},
   "source": [
    "<!--NAVIGATION-->\n",
    "< [Preface](00.00-Preface.ipynb) | [Contents](Index.ipynb) | [Why Python?](01.01-Why-Python.ipynb) >"
   ]
  },
  {
   "cell_type": "markdown",
   "metadata": {},
   "source": [
    "# 第三章\n",
    "\n",
    "# 数组\n",
    "\n",
    "### [3. Array](03.00-Array.ipynb)\n",
    "- [Generating Sequential Arrays](03.01-Generating-Sequential-Arrays.ipynb)\n",
    "- [Useful Attributes and Methods](03.02-Useful-Attributes-and-Methods.ipynb)\n",
    "- [Indexing](03.03-Indexing.ipynb)\n",
    "- [Array Manipulation](03.04-Array-Manipulation.ipynb)\n",
    "\n",
    "\n",
    "\n",
    "\n",
    "\n",
    "\n",
    "\n",
    "## 3.1生成连续数组\n",
    "\n",
    "通常我们需要向量遵循简单的顺序，例如，包含元素[10,11,12,13]或[5,10,15,20]或[1.0,1.2,1.4,1.6,1.8,2.0]的向量。我们看到，在这些向量中，元素遵循一些简单的顺序，所以如果有简单的方法来定义这些向量就更好了。一些创建这些向量的方法如下：\n",
    "\n",
    "### 3.1.1 linspace\n",
    "\n",
    "\n"
   ]
  }
 ],
 "metadata": {
  "kernelspec": {
   "display_name": "Python 3",
   "language": "python",
   "name": "python3"
  },
  "language_info": {
   "codemirror_mode": {
    "name": "ipython",
    "version": 3
   },
   "file_extension": ".py",
   "mimetype": "text/x-python",
   "name": "python",
   "nbconvert_exporter": "python",
   "pygments_lexer": "ipython3",
   "version": "3.5.0"
  }
 },
 "nbformat": 4,
 "nbformat_minor": 2
}
