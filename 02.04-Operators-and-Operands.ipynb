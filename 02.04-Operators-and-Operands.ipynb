{
 "cells": [
  {
   "cell_type": "markdown",
   "metadata": {},
   "source": [
    "<!--BOOK_INFORMATION-->\n",
    "<img align=\"left\" style=\"padding-right:10px;\" src=\"figures/PHydro-cover-small.png\">\n",
    "*This is the Jupyter notebook version of the [Python in Hydrology](http://www.greenteapress.com/pythonhydro/pythonhydro.html) by Sat Kumar Tomer.*\n",
    "*Source code is available at [code.google.com](https://code.google.com/archive/p/python-in-hydrology/source).*\n",
    "\n",
    "*The book is available under the [GNU Free Documentation License](http://www.gnu.org/copyleft/fdl.html). If you have comments, corrections or suggestions, please send email to satkumartomer@gmail.com.*"
   ]
  },
  {
   "cell_type": "markdown",
   "metadata": {},
   "source": [
    "<!--NAVIGATION-->\n",
    "< [Preface](00.00-Preface.ipynb) | [Contents](Index.ipynb) | [Why Python?](01.01-Why-Python.ipynb) >"
   ]
  },
  {
   "cell_type": "markdown",
   "metadata": {},
   "source": [
    "## 1.1 为什么是Python？\n",
    "\n",
    "Python是一种简单和强大的编程语言。说它简单，我的意思是它比C这样的语言更为宽容，尽管C速度也很慢。说它强大，我的意思是它可以像胶水一样，很容易地将许多用C、C++、Fortran等语言编写的代码粘连起来。Python程序包是Python代码的主要主机(宿主)，已经列出了超过15,000个包，说明了它的受欢迎程度。与其他领域相比，在水文学社区使用Python并不那么快，但现在，许多新的水文程序包正在开发中。Python提供了GIS工具、数学、统计等的良好组合，使其成为水文学家的有用语言。以下是Python对水文学家的主要优势：\n",
    "\n",
    "- 1.清晰易读的语法。\n",
    "- 2.模块可以很容易地用C，C++编写。\n",
    "- 3.可以在所有主流平台(Windows,Linux/Uinx，Mac等)上使用。\n",
    "- 4.易于学习。\n",
    "- 5.而且是免费的。"
   ]
  }
 ],
 "metadata": {
  "kernelspec": {
   "display_name": "Python 3",
   "language": "python",
   "name": "python3"
  },
  "language_info": {
   "codemirror_mode": {
    "name": "ipython",
    "version": 3
   },
   "file_extension": ".py",
   "mimetype": "text/x-python",
   "name": "python",
   "nbconvert_exporter": "python",
   "pygments_lexer": "ipython3",
   "version": "3.5.0"
  }
 },
 "nbformat": 4,
 "nbformat_minor": 2
}
