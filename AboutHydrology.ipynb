{
 "cells": [
  {
   "cell_type": "markdown",
   "metadata": {},
   "source": [
    "# AboutHydrology\n",
    "\n",
    "我关于水文学和水文学家的思考和笔记。我日常工作的进展，特别是对我的学生，也是对耐心阅读的人。\n",
    "\n",
    "2016年12月25日星期五\n",
    "\n",
    "## 水文学家的Python资源\n",
    "\n",
    "Python是一种面向对象的高级语言。我偶尔也会在我的[帖子](http://abouthydrology.blogspot.it/search/label/Python)里提到它，也会说我去了一个不同的方向。然而，我不能否认越来越多的人选择使用它的证据，而且有充分的理由，作为他们从事研究和水文学应用选择的语言。下面你会找到一个资源列表。请不要犹豫，将我的注意力放在你们或其他人的贡献上，我还没有在我的小组中做出贡献。\n",
    "\n",
    "使用Python的动机以及其他的选择，可以在这个博客[帖子](https://steppe.org/python-a-fundamental-tool-in-the-geoscientists-toolbox/)或这篇[文章](http://journals.ametsoc.org/doi/full/10.1175/BAMS-D-12-00148.1)中找到。\n",
    "\n",
    "为了理解如何开始，你可以按照[Python programming for hydrology students](http://python.hydrology-amsterdam.nl/)，这个教程从如何安装Python开始指导。\n",
    "\n",
    "有许多开始学习Python的资源，但是对于水文学者来讲，建议使用这些：\n",
    "\n",
    "- [Python in Hydrology](http://greenteapress.com/pythonhydro/pythonhydro.html)\n",
    "- [Python programming guide for Earth Scientists](http://210.36.16.123/videoplayer/hydro_python_manual.pdf?ich_u_r_i=4080159eeabee7423878d467ee1ddd2b&ich_s_t_a_r_t=0&ich_e_n_d=0&ich_k_e_y=1745128916750463252443&ich_t_y_p_e=1&ich_d_i_s_k_i_d=1&ich_u_n_i_t=1)\n",
    "- [A Hands-On Introduction to Using Python in the Atmospheric and Oceanic Sciences](http://www.johnny-lin.com/pyintro/)\n",
    "\n",
    "作为第一本书的参考，[Soil Physics with Python: Transport in the Soil-Plant-Atmosphere System,by Bittelli et al](https://www.amazon.it/Soil-Physics-Python-Transport-Soil-Plant-Atmosphere-ebook/dp/B00WUW1E42/ref=sr_1_1?s=digital-text&ie=UTF8&qid=1480004215&sr=1-1&keywords=Soil+Physics+with+Python%3A+Transport+in+the+Soil-Plant-Atmosphere+System)是关于土壤科学的，这本书非常有吸引力(就像看到了？)：kindle版本价格合理，但我没有。Python程序在[这里](http://www.dista.unibo.it/~bittelli/soil_physics_python.php)可以找到。\n",
    "\n",
    "在[SciPy.org](https://www.scipy.org/topical-software.html)上给出了Python中一般使用的科学库和软件的该书，从中我将这些链接提取到文档中。\n",
    "\n",
    "- 科学计算Python教程：主要是[Numpy和Scipy文档](https://docs.scipy.org/doc/)。\n",
    "- [Scipy Lecture Notes](http://www.scipy-lectures.org/)：是Python科学计算的一个全套教程。\n",
    "- [Software Carpentry](https://software-carpentry.org/)是一个开源的，面向拥有科学、工程和医学背景人的基础软件开发技巧课程。\n",
    "- [Lectures on scientific computing with python](https://github.com/jrjohansson/scientific-python-lectures)by J.R.Johansson.\n",
    "- [Introduction to Statistics](http://www.springer.com/us/book/9783319283159)是一本介绍了统计学基本概念，并结合了一整套使用Python进行统计学数据分析应用案例的书(作者是T.Haslwanter)。[这](https://www.kevinsheppard.com/images/0/09/Python_introduction.pdf)是另外一本类似的书(作者是Kevin Sheppard)。\n",
    "- [Jupyter](http://jupyter.org/)notebooks是组织计算非常棒的方式。\n",
    "  \n",
    "Python特别是用作程序的胶水，要不就是用C或者FORTRAN编写的。我们有如下的案例：\n",
    "\n",
    "- [CMF](http://fb09-pasig.umwelt.uni-giessen.de/cmf/)是一个用于创建水文模型编程库。尽管是用C++编写的，但是它有Python接口。\n",
    "- [地球系统建模框架(ESMF)](https://www.earthsystemcog.org/projects/esmf/)重新栅格化已经与Python ESMPy接口。\n",
    "- [GRASS](https://grasswiki.osgeo.org/wiki/GRASS_and_Python)地理信息系统已经实现Python接口。\n",
    "- Python也实现了与[gvSIG](http://www.gvsig.com/en)的接口，你可以从[Geographic Scritping in gvSIG](http://jgrasstechtips.blogspot.com/2016/11/course-slides-geographic-scritping-in.html)看到。\n",
    "- [HPGL](http://hpgl.github.io/hpgl/)是一个高性能的地质统计学库，用C++编写的代码被Python粘合在一起。\n",
    "- [MODFLOW](https://water.usgs.gov/ogw/modflow/)地下水文模型由[FloPy](https://water.usgs.gov/ogw/flopy/)接口连接。文档和其它信息在[这里](https://blogs.egu.eu/network/water-underground/2016/08/04/flopy-a-python-interface-for-modflow-that-kicks-tail/)。\n",
    "- [PCRaster](http://pcraster.geo.uu.nl/)是一个针对时空环境模型开发和部署的软件集合。它有一个不断增强的python接口。\n",
    "- [Open Hydrology](https://github.com/OpenHydrology)是一个用Python编写的开源水文软件库,它以包的形式在一个伞形接口(umbrella interface)下进行操作。\n",
    "- [PyHSPF](https://github.com/djlampert/PyHSPF)：对Fortran水文模拟程序的Python拓展。\n",
    "- [PyQGIS](https://docs.qgis.org/testing/en/docs/pyqgis_developer_cookbook/intro.html):[QGIS(免费开源的地理信息系统)](https://www.qgis.org/en/site/)的一个Python接口。\n",
    "- [RhessysWorkflow ](https://github.com/selimnairb/RHESSysWorkflows):RHESSysWorkflows提供了用于构建[RHESSys](http://fiesta.bren.ucsb.edu/~rhessys/)模型的Python脚本。其它的关于RHESSys的Pythonic材料可以在[这里](https://github.com/selimnairb)找到。\n",
    "- [UWHydro](https://github.com/UW-Hydro)工具连接华盛顿大学的水文模型，特别是[VIC](https://vic.readthedocs.io/en/develop/)驱动程序[PythonDriver](https://vic.readthedocs.io/en/develop/Documentation/Drivers/Python/PythonDriver/)\n",
    "\n",
    "在水文学的应用中，完全用Python占主导地位编写，我们提醒：\n",
    "- [AMBHAS](http://ambhas.com/tools.php)：用Python编写的水文学库。\n",
    "- [ANUGA](https://sourceforge.net/projects/anuga/)[2(失效)](http://datamining.anu.edu.au/)模拟溃坝、河流泛滥、风暴草或海啸的软件包。用Python和C语言编写。\n",
    "- [EcoHydrolib](http://pythonhosted.org/ecohydrolib/)提供了进行生态水文学数据准备工作流程的一系列Python脚本。\n",
    "- [evaplib](http://python.hydrology-amsterdam.nl/modules/evaplib.py):包含计算蒸发速率函数的Python库。其功能包括Penman开放水分蒸发，Makkink参考蒸发，Priestley Taylor蒸发，Penman Monteith(1965)蒸发以及FAO的Penman Moteith ET0参考蒸发。另外还有一个函数可以通过温度波动计算感热通量。[查看evaplib模块功能的文档](http://python.hydrology-amsterdam.nl/moduledoc/index.html#module-evaplib)。模块文档也有[PDF版](http://python.hydrology-amsterdam.nl/moduledoc/Meteorologyandevaporationmodules.pdf)。作者:M.J.Waterloo。\n",
    "- [GLUE方法](http://code.activestate.com/pypm/pyglue/),广义似然不确定性估计(GLUE),由Joel Delsman于2011年在Deltares开发。\n",
    "- [Groundwater flow modelling manual](http://python.hydrology-amsterdam.nl/manuals/computer_labs_post.pdf):由Vincent post编写的Python地下水流动模型手册。\n",
    "- [Hydro-conductor](https://github.com/pacificclimate/hydro-conductor)：一组Python脚本和模块，用于将水文模型与区域冰川模型相结合。\n",
    "- [ODMToolsPyhon](https://github.com/ODM2)和[OMDMTools](https://github.com/ODM2/ODMToolsPython)是使用观测数据模型管理观测数据的Python应用程序。ODMTools允许您查询、可视化和编辑存储在观测数据模型(ODM)数据库中的数据。ODMTools最初是作为CUAHSI水文信息系统的一部分开发的。你可以在[这里](https://acwi.gov/monitoring/conference/2014/2ConcurrentSessions/J3/J3Horsburgh.pdf)找到介绍。\n",
    "- [PyETo](https://github.com/woodcrafty/PyETo)是一个用于计算参考/潜在蒸散量(ET0)的包。\n",
    "- [Python script for rectangular Piper plot (version December 2014)](http://python.hydrology-amsterdam.nl/scripts/piper_rectangular.py):根据Ray和Mukherjee(2008)地下水46(6)：893-896，用于在矩形python图上绘制化学数据(看[图](http://python.hydrology-amsterdam.nl/images/piper.png))。同时下载示例数据文件[watersamples.txt](http://python.hydrology-amsterdam.nl/data/watersamples.txt)。作者：B.M. van Breukelen。\n",
    "- [Python script for multiple Stiff plots (version June 2011)](http://python.hydrology-amsterdam.nl/scripts/stiff_fill.py)：用于多个板式图解的Python脚本(2011年6月版),用于(见图)。"
   ]
  }
 ],
 "metadata": {
  "kernelspec": {
   "display_name": "Python 3",
   "language": "python",
   "name": "python3"
  },
  "language_info": {
   "codemirror_mode": {
    "name": "ipython",
    "version": 3
   },
   "file_extension": ".py",
   "mimetype": "text/x-python",
   "name": "python",
   "nbconvert_exporter": "python",
   "pygments_lexer": "ipython3",
   "version": "3.5.0"
  }
 },
 "nbformat": 4,
 "nbformat_minor": 2
}
