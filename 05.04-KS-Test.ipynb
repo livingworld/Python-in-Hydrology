{
 "cells": [
  {
   "cell_type": "markdown",
   "metadata": {},
   "source": [
    "<!--BOOK_INFORMATION-->\n",
    "<img align=\"left\" style=\"padding-right:10px;\" src=\"figures/PHydro-cover-small.png\">\n",
    "*This is the Jupyter notebook version of the [Python in Hydrology](http://www.greenteapress.com/pythonhydro/pythonhydro.html) by Sat Kumar Tomer.*\n",
    "*Source code is available at [code.google.com](https://code.google.com/archive/p/python-in-hydrology/source).*\n",
    "\n",
    "*The book is available under the [GNU Free Documentation License](http://www.gnu.org/copyleft/fdl.html). If you have comments, corrections or suggestions, please send email to satkumartomer@gmail.com.*"
   ]
  },
  {
   "cell_type": "markdown",
   "metadata": {},
   "source": [
    "<!--NAVIGATION-->\n",
    "< [The t-Test](05.03-The-t-Test.ipynb) | [Contents](Index.ipynb) | [The Chi Square test](05.05-The-Chi-Square-test.ipynb) >"
   ]
  },
  {
   "cell_type": "markdown",
   "metadata": {},
   "source": [
    "## 5.4 KS检验\n",
    "\n",
    "柯尔莫可洛夫-斯米洛夫(KS)检验是一种对比两个连续一维概率分布的非参数检验。在这个测试中，我们测量了两个分布之间的距离(绝对差距)。这两个分布可能是两个不同的样本，或一个是样本而另一个是经验分布。让我们检验一下是否我们生成的正态分布随机变量遵循正态分布。`st.kstest`是执行KS检验的函数。"
   ]
  },
  {
   "cell_type": "code",
   "execution_count": 2,
   "metadata": {},
   "outputs": [
    {
     "name": "stdout",
     "output_type": "stream",
     "text": [
      "0.529201345917\n"
     ]
    }
   ],
   "source": [
    "import numpy as np\n",
    "import scipy.stats as st\n",
    "x = np.random.randn(1000)\n",
    "# KS检验\n",
    "D,p = st.kstest(x,'norm')\n",
    "print(p)"
   ]
  },
  {
   "cell_type": "markdown",
   "metadata": {},
   "source": [
    "我们获得一个p-value等于0.529，这意味着我们生成的正态帆布随机变量是事实上的正态(?)。我们也可以检验是否生成的均一化分布随机变量不是正态的（by chance？）。在这里我们得到了p-value等于0，这意味着在这种情况下，我们生成的随机变量是非正态的。"
   ]
  },
  {
   "cell_type": "code",
   "execution_count": 3,
   "metadata": {},
   "outputs": [
    {
     "name": "stdout",
     "output_type": "stream",
     "text": [
      "0.0\n"
     ]
    }
   ],
   "source": [
    "y = np.random.rand(10000)\n",
    "D,p = st.kstest(y,'norm')\n",
    "print(p)"
   ]
  }
 ],
 "metadata": {
  "kernelspec": {
   "display_name": "Python 3",
   "language": "python",
   "name": "python3"
  },
  "language_info": {
   "codemirror_mode": {
    "name": "ipython",
    "version": 3
   },
   "file_extension": ".py",
   "mimetype": "text/x-python",
   "name": "python",
   "nbconvert_exporter": "python",
   "pygments_lexer": "ipython3",
   "version": "3.5.4"
  }
 },
 "nbformat": 4,
 "nbformat_minor": 2
}
