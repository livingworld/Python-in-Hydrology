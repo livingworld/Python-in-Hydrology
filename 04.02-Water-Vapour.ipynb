{
 "cells": [
  {
   "cell_type": "markdown",
   "metadata": {},
   "source": [
    "<!--BOOK_INFORMATION-->\n",
    "<img align=\"left\" style=\"padding-right:10px;\" src=\"figures/PHydro-cover-small.png\">\n",
    "*This is the Jupyter notebook version of the [Python in Hydrology](http://www.greenteapress.com/pythonhydro/pythonhydro.html) by Sat Kumar Tomer.*\n",
    "*Source code is available at [code.google.com](https://code.google.com/archive/p/python-in-hydrology/source).*\n",
    "\n",
    "*The book is available under the [GNU Free Documentation License](http://www.gnu.org/copyleft/fdl.html). If you have comments, corrections or suggestions, please send email to satkumartomer@gmail.com.*"
   ]
  },
  {
   "cell_type": "markdown",
   "metadata": {},
   "source": [
    "<!--NAVIGATION-->\n",
    "< [Introduction](04.01-Introduction.ipynb) | [Contents](Index.ipynb) | [Precipitation](04.03-Precipitation.ipynb) >"
   ]
  },
  {
   "cell_type": "markdown",
   "metadata": {},
   "source": [
    "## 4.2 水蒸气\n",
    "\n",
    "大致上，饱和蒸气压（$e_s$）与空气温度（$T$）通过以下等式相关。\n",
    "\n",
    "<center>$e_s = 611exp(\\frac{17.27T}{237.3+T})$, (4.1) </center>     \n",
    "\n",
    "其中，$e_s$是帕斯卡,$T$为摄氏度。让我们计算$T＝50$时，$e_s$的值。"
   ]
  },
  {
   "cell_type": "code",
   "execution_count": 2,
   "metadata": {
    "scrolled": true
   },
   "outputs": [
    {
     "name": "stdout",
     "output_type": "stream",
     "text": [
      "12340.799081\n"
     ]
    }
   ],
   "source": [
    "import numpy as np\n",
    "\n",
    "T = 50\n",
    "es = 611*np.exp(17.27*T/(237.3+T))\n",
    "print(es)"
   ]
  },
  {
   "cell_type": "markdown",
   "metadata": {},
   "source": [
    "让我们在-100≤T≤100的范围内绘制$e_s$与$T$的变化曲线。`plt.plot(x，y)`绘制y与x的线图，默认颜色为蓝色。`plt.xlabel()`和`plt.ylabel()`分别用于x轴和y轴上写标签。`xlable`和`ylabel`的输入必须是一个字符串，或一个包含字符串的变量。`plt.show()`显示图形在电脑屏幕上。"
   ]
  },
  {
   "cell_type": "code",
   "execution_count": 3,
   "metadata": {
    "scrolled": true
   },
   "outputs": [
    {
     "data": {
      "image/png": "[encoded data removed]",
      "text/plain": [
       "<matplotlib.figure.Figure at 0x59a3126a20>"
      ]
     },
     "metadata": {},
     "output_type": "display_data"
    }
   ],
   "source": [
    "import numpy as np\n",
    "import matplotlib.pyplot as plt\n",
    "T = np.linspace(-100,100,50)\n",
    "es = 611*np.exp(17.27*T/(237.3+T))\n",
    "plt.plot(T,es)\n",
    "plt.xlabel('T (degree Celcius)')\n",
    "plt.ylabel('es (Pa)')\n",
    "plt.show()"
   ]
  },
  {
   "cell_type": "markdown",
   "metadata": {},
   "source": [
    "结果如上图所示。这个例子演示了如何用图形直观地显示一个变量相对于另一个变量的变化，而前者是后面的显式函数。"
   ]
  }
 ],
 "metadata": {
  "kernelspec": {
   "display_name": "Python 3",
   "language": "python",
   "name": "python3"
  },
  "language_info": {
   "codemirror_mode": {
    "name": "ipython",
    "version": 3
   },
   "file_extension": ".py",
   "mimetype": "text/x-python",
   "name": "python",
   "nbconvert_exporter": "python",
   "pygments_lexer": "ipython3",
   "version": "3.6.0"
  }
 },
 "nbformat": 4,
 "nbformat_minor": 2
}
