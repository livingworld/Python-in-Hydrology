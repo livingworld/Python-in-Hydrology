{
 "cells": [
  {
   "cell_type": "markdown",
   "metadata": {},
   "source": []
  },
  {
   "cell_type": "markdown",
   "metadata": {},
   "source": []
  },
  {
   "cell_type": "markdown",
   "metadata": {},
   "source": [
    "# 第7章\n",
    "## 绘图\n",
    "\n",
    "第一个问题在我们绘图时是字体大小。我们可以通过指定pyplot的字体大小方法来改变字体大小，但是在这里我们需要指定所有位置的字体。这变成了一个笨重的任务，尤其是当你想要绘制许多的图时。有另外一种方法来解决这个问题，通过更新plt中的`prcParams`方法。更新按照以下的方式。"
   ]
  },
  {
   "cell_type": "code",
   "execution_count": 4,
   "metadata": {},
   "outputs": [],
   "source": [
    "import matplotlib.pyplot as plt\n",
    "params = {\n",
    "'axes.labelsize': 17,\n",
    "'font.size': 17,\n",
    "'legend.fontsize': 17,\n",
    "'xtick.labelsize': 17,\n",
    "'ytick.labelsize': 17,\n",
    "'text.usetex': False,\n",
    "'font.size':17}\n",
    "plt.rcParams.update(params)"
   ]
  },
  {
   "cell_type": "markdown",
   "metadata": {},
   "source": [
    "参数的名称是自我解释的。如果我们想要在所有类型的文本(例如.ticks,ticks,legend等)中保持相同的字体大小，我们可以简单的更新`font.size`。在绘制图形之前编写这个和定义合适你的值是一个好习惯(?)。如果你想要在后面改变某些图形属性的字体大小，你可以在那儿定义特殊的值。我们将在今后所有图形中使用这些字体大小，但为简洁起见，不会将此文本添加到每个代码中。"
   ]
  }
 ],
 "metadata": {
  "kernelspec": {
   "display_name": "Python 3",
   "language": "python",
   "name": "python3"
  },
  "language_info": {
   "codemirror_mode": {
    "name": "ipython",
    "version": 3
   },
   "file_extension": ".py",
   "mimetype": "text/x-python",
   "name": "python",
   "nbconvert_exporter": "python",
   "pygments_lexer": "ipython3",
   "version": "3.5.4"
  }
 },
 "nbformat": 4,
 "nbformat_minor": 2
}
