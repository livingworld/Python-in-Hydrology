{
 "cells": [
  {
   "cell_type": "markdown",
   "metadata": {},
   "source": []
  },
  {
   "cell_type": "markdown",
   "metadata": {},
   "source": []
  },
  {
   "cell_type": "markdown",
   "metadata": {},
   "source": [
    "## 6.4 写入矢量\n",
    "\n",
    "shap文件(.shp)格式是相当常用的矢量数据类型。让我们写入一个shape文件。为了写入shape文件，我们将使用`ogr`包。OGR是GDAL库的一部分。OGR处理矢量格式，而GDAL主库则用于栅格格式。由OGR支持的格式列表以及当创建驱动时使用的代码名称，给出在`http://www.gdal.org/ogr/ogr_formats.html`。让我们说，我们想制作一个具有四个城市位置和名称的shape文件。城市的细节如下：\n",
    "\n",
    "|||\n",
    "|---|:---:|\n",
    "|Name|Latitude|Longitude|\n",
    "|Bijnor|29.4|78.1\n",
    "|Delhi|28.6|77.2\n",
    "|Bangalore|13.0|77.8\n",
    "|Berambadi|11.8|76.6\n",
    "\n",
    "我们从导入`ogr`库和定义城市的坐标及名称开始。"
   ]
  },
  {
   "cell_type": "code",
   "execution_count": 1,
   "metadata": {},
   "outputs": [],
   "source": [
    "import ogr\n",
    "lat = [29.4,28.6,13.0,11.8]\n",
    "lon = [78.1,77.2,77.8,76.6]\n",
    "name = ['Bijnor', 'Delhi', 'Bangalore', 'Berambadi']"
   ]
  },
  {
   "cell_type": "markdown",
   "metadata": {},
   "source": [
    "现在，我们定义了驱动的名称(ESRI shape文件)，并创建了数据源。`driver.CrateDataSource`定义保存数据的文件夹的名称。`ds.CreateLayer`定义shape文件的名称及几何图形类型(在这种情况下是点)。然后我们定义字段名为`Name`，并说它是一个具有最大宽度为16的字符串类型。"
   ]
  },
  {
   "cell_type": "code",
   "execution_count": 5,
   "metadata": {},
   "outputs": [
    {
     "data": {
      "text/plain": [
       "0"
      ]
     },
     "execution_count": 5,
     "metadata": {},
     "output_type": "execute_result"
    }
   ],
   "source": [
    "driver = ogr.GetDriverByName(\"ESRI Shapefile\")\n",
    "ds = driver.CreateDataSource('datas/location')\n",
    "layer = ds.CreateLayer('location', geom_type=ogr.wkbPoint)\n",
    "field_defn = ogr.FieldDefn('Name', ogr.OFTString )\n",
    "field_defn.SetWidth(16)\n",
    "\n",
    "layer.CreateField(field_defn)"
   ]
  },
  {
   "cell_type": "markdown",
   "metadata": {},
   "source": [
    "现在，我们有了基本的信息准备，我们可以开始添加关于城市(名称和位置)的信息。首先我们创建一个特征来存储城市的信息。然后，我们在`Name`字段内添加城市的名称。在此之后，我们说它是一个点型，而且我们添加它的经度和维度。最终，我们摧毁特征和数据源，这样就不许奥对它们进行任何操作，我们的数据也保存得很好。"
   ]
  },
  {
   "cell_type": "code",
   "execution_count": 6,
   "metadata": {},
   "outputs": [],
   "source": [
    "i = 0\n",
    "for i in range(len(name)):\n",
    "    feature = ogr.Feature(layer.GetLayerDefn())\n",
    "    feature.SetField('Name', name[i])\n",
    "    pt = ogr.Geometry(ogr.wkbPoint)\n",
    "    pt.SetPoint_2D(0, lon[i], lat[i])\n",
    "    feature.SetGeometry(pt)\n",
    "    layer.CreateFeature(feature)\n",
    "    feature.Destroy()\n",
    "ds.Destroy()"
   ]
  },
  {
   "cell_type": "markdown",
   "metadata": {},
   "source": [
    "我们可以在任何GIS查看器中看到这个shape文件。如图6.5显示了使用GGS生成的城市的位置。\n",
    "\n",
    "![location](figures/location.png)"
   ]
  },
  {
   "cell_type": "markdown",
   "metadata": {},
   "source": [
    "<center>图6.5:城市的位置</center>"
   ]
  }
 ],
 "metadata": {
  "kernelspec": {
   "display_name": "Python 3",
   "language": "python",
   "name": "python3"
  },
  "language_info": {
   "codemirror_mode": {
    "name": "ipython",
    "version": 3
   },
   "file_extension": ".py",
   "mimetype": "text/x-python",
   "name": "python",
   "nbconvert_exporter": "python",
   "pygments_lexer": "ipython3",
   "version": "3.5.4"
  }
 },
 "nbformat": 4,
 "nbformat_minor": 2
}
