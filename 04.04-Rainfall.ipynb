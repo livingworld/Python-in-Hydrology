{
 "cells": [
  {
   "cell_type": "markdown",
   "metadata": {},
   "source": [
    "<!--BOOK_INFORMATION-->\n",
    "<img align=\"left\" style=\"padding-right:10px;\" src=\"figures/PHydro-cover-small.png\">\n",
    "*This is the Jupyter notebook version of the [Python in Hydrology](http://www.greenteapress.com/pythonhydro/pythonhydro.html) by Sat Kumar Tomer.*\n",
    "*Source code is available at [code.google.com](https://code.google.com/archive/p/python-in-hydrology/source).*\n",
    "\n",
    "*The book is available under the [GNU Free Documentation License](http://www.gnu.org/copyleft/fdl.html). If you have comments, corrections or suggestions, please send email to satkumartomer@gmail.com.*"
   ]
  },
  {
   "cell_type": "markdown",
   "metadata": {},
   "source": [
    "<!--NAVIGATION-->\n",
    "< [Precipitation](04.03-Precipitation.ipynb) | [Contents](Index.ipynb) | [Evaporation](04.05-Evaporation.ipynb) >"
   ]
  },
  {
   "cell_type": "markdown",
   "metadata": {},
   "source": [
    "## 4.4 雨量\n",
    "\n",
    "通常情况下，我们通过雨量计得到降雨记录，它提供了连续时间间隔时段的雨量深度，我们想要计算累计雨量。在这个例子中，我们应该先利用随机数创建雨量，并且也应该创建具有值为 [0,5,10, ...., 100]的时间变量。"
   ]
  },
  {
   "cell_type": "code",
   "execution_count": 5,
   "metadata": {},
   "outputs": [
    {
     "data": {
      "text/plain": [
       "array([   0.,    5.,   10.,   15.,   20.,   25.,   30.,   35.,   40.,\n",
       "         45.,   50.,   55.,   60.,   65.,   70.,   75.,   80.,   85.,\n",
       "         90.,   95.,  100.])"
      ]
     },
     "execution_count": 5,
     "metadata": {},
     "output_type": "execute_result"
    }
   ],
   "source": [
    "import numpy as np\n",
    "time = np.linspace(0,100,21) #  创建时间变量\n",
    "time"
   ]
  },
  {
   "cell_type": "code",
   "execution_count": 6,
   "metadata": {},
   "outputs": [
    {
     "data": {
      "text/plain": [
       "array([ 0.83418241,  0.48430898,  0.26910359,  0.79594393,  0.12399144,\n",
       "        0.22019318,  0.25024179,  0.59889001,  0.59921175,  0.1905287 ,\n",
       "        0.74205973,  0.10061845,  0.02879496,  0.10427252,  0.23267918,\n",
       "        0.42006612,  0.26932961,  0.49197141,  0.76248025,  0.05901322,\n",
       "        0.64704986])"
      ]
     },
     "execution_count": 6,
     "metadata": {},
     "output_type": "execute_result"
    }
   ],
   "source": [
    "rainfall = np.random.rand(21) # 生成雨量\n",
    "rainfall"
   ]
  },
  {
   "cell_type": "markdown",
   "metadata": {},
   "source": [
    "现在我们使用`plt.bar()`来绘制条形图，用于描述降雨时间行为的降雨量。"
   ]
  },
  {
   "cell_type": "code",
   "execution_count": 7,
   "metadata": {},
   "outputs": [
    {
     "data": {
      "image/png": "[encoded data removed]",
      "text/plain": [
       "<matplotlib.figure.Figure at 0x59a3c9abe0>"
      ]
     },
     "metadata": {},
     "output_type": "display_data"
    }
   ],
   "source": [
    "import matplotlib.pyplot as plt\n",
    "plt.bar(time,rainfall)\n",
    "plt.xlabel('Time')\n",
    "plt.ylabel('Incremental rainfall')\n",
    "plt.savefig('figures/rain.png')\n",
    "plt.show()"
   ]
  },
  {
   "cell_type": "markdown",
   "metadata": {},
   "source": [
    "雨量条形图结果如图所示。您可能已经注意到，在4.2节，我们使用`plt.show()`，而在上述例子中我们使用了`plt.savefig`。`plt.show()`显示图形在计算机屏幕中，稍后可以保存，而`plt.savefig()`直接保存图片计算机中，可以在打开文件后查看。这只是关乎品味、你喜欢什么，可选的两个可以在同一个图表上完成。我更喜欢保存图片在电脑中，然后再查看它们。\n",
    "\n",
    "累计和是通过使用numpy库的cumsum函数来计算的。"
   ]
  },
  {
   "cell_type": "code",
   "execution_count": 8,
   "metadata": {
    "collapsed": true
   },
   "outputs": [],
   "source": [
    "cum_rainfall = np.cumsum(rainfall)"
   ]
  },
  {
   "cell_type": "markdown",
   "metadata": {},
   "source": [
    "现在我们绘制累积雨量图。累积雨量如图4.3所示。`plt.clf()`清除当前图形，在进行多个图形的绘制以及有任意图形存在于python内存中时非常有用。只是不要使用`clf`在这儿，看看不同之处。"
   ]
  },
  {
   "cell_type": "code",
   "execution_count": 9,
   "metadata": {
    "scrolled": false
   },
   "outputs": [
    {
     "data": {
      "image/png": "[encoded data removed]",
      "text/plain": [
       "<matplotlib.figure.Figure at 0x59a3d44278>"
      ]
     },
     "metadata": {},
     "output_type": "display_data"
    }
   ],
   "source": [
    "plt.clf()\n",
    "plt.plot(time,cum_rainfall)\n",
    "plt.xlabel('Time')\n",
    "plt.ylabel('Cummulative rainfall')\n",
    "plt.savefig('figures/cum_rain.png')\n",
    "plt.show()"
   ]
  },
  {
   "cell_type": "markdown",
   "metadata": {},
   "source": [
    "通常，我们在相同的雨量计中得到雨量，我们要做雨量的等值线(轮廓线)图。为了说明这种情况，我们首先用随机数生成10个站点的位置(x,y)和雨量。生成的雨量计的位置如图所示。"
   ]
  },
  {
   "cell_type": "code",
   "execution_count": 10,
   "metadata": {
    "scrolled": true
   },
   "outputs": [
    {
     "data": {
      "image/png": "[encoded data removed]",
      "text/plain": [
       "<matplotlib.figure.Figure at 0x59a4dd76d8>"
      ]
     },
     "metadata": {},
     "output_type": "display_data"
    }
   ],
   "source": [
    "# 导入需要的模块\n",
    "import numpy as np\n",
    "import matplotlib.pyplot as plt\n",
    "\n",
    "# 生成位置和雨量\n",
    "x = np.random.rand(10)\n",
    "y = np.random.rand(10)\n",
    "rain = 10*np.random.rand(10)\n",
    "\n",
    "#绘制位置\n",
    "plt.scatter(x,y)\n",
    "plt.xlabel('X')\n",
    "plt.ylabel('Y')\n",
    "plt.savefig('figures/loc.png')\n",
    "plt.show()"
   ]
  },
  {
   "cell_type": "markdown",
   "metadata": {},
   "source": [
    "我更喜欢在一段代码之后添加空白行，并在它的顶部做注释，这增加了代码的可读性。`plt.scatter()`作散点图，即绘制点而不是线。如果数据中的位置没有顺序，则使用散点图。像在这种情况下，可能有两个靠近的站，但可能被放置在远处的数组中。\n",
    "\n"
   ]
  },
  {
   "cell_type": "markdown",
   "metadata": {
    "collapsed": true
   },
   "source": [
    "绘制等高线的流程图如图4.5所示。首先，我们需要生成具有规则间距的网格，其大小与雨量计的位置相同。然后，从给定的位置和雨量数据中，我们需要使用一些插值方案在规则网格上计算数据。之后可以获得等值线图。`scipy.interpolate`库的`griddata`函数在获取网格数据(常规网格数据)时非常有用。当我们只需要库中的一个或几个函数时，最好明确地调用它们，例如`from scipy.interpolate import griddata`,就像下一个例子。我们使用`numpy`中的`meshgrid`函数，从给定的x和y向量中创建网格。"
   ]
  },
  {
   "cell_type": "markdown",
   "metadata": {},
   "source": [
    "```flow\n",
    "st=>start: Start\n",
    "e=>end: End\n",
    "op1=>operation:雨量计位置\n",
    "op2=>operation:数据(例如雨量)\n",
    "op3=>operation:插值\n",
    "op1->op3\n",
    "```"
   ]
  },
  {
   "cell_type": "code",
   "execution_count": 11,
   "metadata": {
    "collapsed": true
   },
   "outputs": [],
   "source": [
    "from scipy.interpolate import griddata\n",
    "#generate the desired grid, where rainfall is to be interpolated\n",
    "X,Y = np.meshgrid(np.linspace(0,1,1000), np.linspace(0,1,1000))\n",
    "\n",
    "#perform the gridding\n",
    "grid_rain = griddata((x,y), rain, (X, Y))"
   ]
  },
  {
   "cell_type": "markdown",
   "metadata": {},
   "source": [
    "现在，我们通过`plt.contourf()`函数制作网格数据的等高线图。`contourf`制作填充轮廓，而`contour()`提供简单的轮廓。尝试使用`contour`而不是`contourf`，你会看到其中的差别。我们使用`plt.clf()`来清除当前的图形，因为在内存中可能存在一些现有的图形，特别是如果您在同一会话中伴随所有的实例。我们也使用`plt.scatter()`来覆盖雨量计的位置。`s`和`c`分别用来定义标记的大小和颜色。`plt.xlim()`和`plt.ylim()`分别限制$x$轴和$y$轴的范围。"
   ]
  },
  {
   "cell_type": "code",
   "execution_count": 12,
   "metadata": {
    "scrolled": false
   },
   "outputs": [
    {
     "data": {
      "image/png": "[encoded data removed]",
      "text/plain": [
       "<matplotlib.figure.Figure at 0x59a09cb2b0>"
      ]
     },
     "metadata": {},
     "output_type": "display_data"
    }
   ],
   "source": [
    "plt.clf()\n",
    "plt.contourf(X,Y,grid_rain)\n",
    "plt.colorbar()\n",
    "plt.xlabel('X')\n",
    "plt.ylabel('Y')\n",
    "plt.scatter(x, y, s=30, c='r')\n",
    "plt.xlim((0,1))\n",
    "plt.ylim((0,1))\n",
    "plt.savefig('figures/grid_rain.png')\n",
    "plt.show()"
   ]
  },
  {
   "cell_type": "markdown",
   "metadata": {},
   "source": [
    "<center>图4.10:入流量和出流量随时间的变化。</center>"
   ]
  }
 ],
 "metadata": {
  "kernelspec": {
   "display_name": "Python 3",
   "language": "python",
   "name": "python3"
  },
  "language_info": {
   "codemirror_mode": {
    "name": "ipython",
    "version": 3
   },
   "file_extension": ".py",
   "mimetype": "text/x-python",
   "name": "python",
   "nbconvert_exporter": "python",
   "pygments_lexer": "ipython3",
   "version": "3.6.0"
  }
 },
 "nbformat": 4,
 "nbformat_minor": 2
}
