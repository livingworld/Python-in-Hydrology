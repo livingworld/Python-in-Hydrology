{
 "cells": [
  {
   "cell_type": "markdown",
   "metadata": {},
   "source": []
  },
  {
   "cell_type": "markdown",
   "metadata": {},
   "source": []
  },
  {
   "cell_type": "markdown",
   "metadata": {},
   "source": [
    "## 8.1 xls\n",
    "\n",
    "`data.xls`文件包含了来自AMSR-E平台的土壤水分估计数据。你可以打开这个xls文件，看看里面有什么内容。在这个文件中，我们有两个工作表(sheet)的数据，升序和降序取决于卫星的方位。每个sheet包含各种各样的网格点时间序列数据。确实的数据被赋予999.9的数。在本节，我们将读取一次性读取单个站点所有时间的数据，修改丢失的数据，并写入其他的xls文件。我们将使用`xlrd`库来从xls文件中读取数据，`xlws`写入数据到xls文件。`xlrd`并不读取`xlsx`数据文件，你应该在读取前，将`xlsx`文件类型转换为`xls`。"
   ]
  },
  {
   "cell_type": "code",
   "execution_count": 34,
   "metadata": {},
   "outputs": [],
   "source": [
    "import xlrd\n",
    "import numpy as np"
   ]
  },
  {
   "cell_type": "markdown",
   "metadata": {},
   "source": [
    "我们通过传递xls文件的名称到`xlrd.open_workbook`来创建工作簿对象。我们需要读取的数据的工作表使用`sheet_by_name`来指定。"
   ]
  },
  {
   "cell_type": "code",
   "execution_count": 35,
   "metadata": {},
   "outputs": [],
   "source": [
    "book = xlrd.open_workbook('datas/data.xls')\n",
    "sheet = book.sheet_by_name('Ascending')"
   ]
  },
  {
   "cell_type": "markdown",
   "metadata": {},
   "source": [
    "在工作表中，列数和行数可能通过分别使用`nrows`和`ncols`属性来确定。"
   ]
  },
  {
   "cell_type": "code",
   "execution_count": 36,
   "metadata": {},
   "outputs": [
    {
     "data": {
      "text/plain": [
       "1100"
      ]
     },
     "execution_count": 36,
     "metadata": {},
     "output_type": "execute_result"
    }
   ],
   "source": [
    "sheet.nrows"
   ]
  },
  {
   "cell_type": "code",
   "execution_count": 37,
   "metadata": {
    "scrolled": true
   },
   "outputs": [
    {
     "data": {
      "text/plain": [
       "39"
      ]
     },
     "execution_count": 37,
     "metadata": {},
     "output_type": "execute_result"
    }
   ],
   "source": [
    "sheet.ncols"
   ]
  },
  {
   "cell_type": "markdown",
   "metadata": {},
   "source": [
    "我们工作表的开头两行是表、经度和维度的标题，因此时间序列数据的长度低于行数。首先我们创建一个空的数据来存储数据，然然后我们使用`cell_valule`一格格的读取数据。我们将读取网格经度为12.4958和维度为75.7484的数据，这在第四列(索引从零开始)。"
   ]
  },
  {
   "cell_type": "code",
   "execution_count": 38,
   "metadata": {},
   "outputs": [],
   "source": [
    "sm = np.empty(sheet.nrows-2)\n",
    "year = np.empty(sheet.nrows-2, int)\n",
    "month = np.empty(sheet.nrows-2,int)\n",
    "day = np.empty(sheet.nrows-2,int)\n",
    "for i in range(sm.shape[0]):\n",
    "    sm[i] = sheet.cell_value(i+2,27)\n",
    "    year[i] = sheet.cell_value(i+2,0)\n",
    "    month[i] = sheet.cell_value(i+2,1)\n",
    "    day[i] = sheet.cell_value(i+2,2)"
   ]
  },
  {
   "cell_type": "markdown",
   "metadata": {},
   "source": [
    "我们可以检查某些变量的数据，例如，sm。"
   ]
  },
  {
   "cell_type": "code",
   "execution_count": 39,
   "metadata": {
    "scrolled": false
   },
   "outputs": [
    {
     "data": {
      "text/plain": [
       "array([  12.6,  999.9,   13.2, ...,   12.1,   12.7,   12.8])"
      ]
     },
     "execution_count": 39,
     "metadata": {},
     "output_type": "execute_result"
    }
   ],
   "source": [
    "sm"
   ]
  },
  {
   "cell_type": "markdown",
   "metadata": {},
   "source": [
    "我们可以将所有丢失的数据定义为`nan`。"
   ]
  },
  {
   "cell_type": "code",
   "execution_count": 40,
   "metadata": {},
   "outputs": [
    {
     "data": {
      "text/plain": [
       "array([ 12.6,   nan,  13.2, ...,  12.1,  12.7,  12.8])"
      ]
     },
     "execution_count": 40,
     "metadata": {},
     "output_type": "execute_result"
    }
   ],
   "source": [
    "sm[sm==999.9]=np.nan\n",
    "sm"
   ]
  },
  {
   "cell_type": "markdown",
   "metadata": {},
   "source": [
    "现在土壤湿度数据已用`nan`代替了999.9来表示缺失的值。我们将使用`xlws`库将该土壤湿度数据写入xls文件。首先我们打开工作簿，然后我们使用`add_sheet`添加一个表的名称。在此后，我们开始按单元格写入条目。最终，我们使用`book.save`保存工作表。"
   ]
  },
  {
   "cell_type": "code",
   "execution_count": 48,
   "metadata": {
    "scrolled": false
   },
   "outputs": [],
   "source": [
    "import xlwt\n",
    "book = xlwt.Workbook()\n",
    "sheet = book.add_sheet('Ascending')\n",
    "sheet.write(0,0,'Year')\n",
    "sheet.write(0,1,'Month')\n",
    "sheet.write(0,2,'Day')\n",
    "sheet.write(0,3,'Latitude')\n",
    "sheet.write(1,3,'Longitude')\n",
    "\n",
    "for i in range(len(sm)):\n",
    "    sheet.write(i+2,4,sm[i])\n",
    "    sheet.write(i+2,0,int(year[i]))\n",
    "    sheet.write(i+2,1,int(month[i]))\n",
    "    sheet.write(i+2,2,int(day[i]))\n",
    "\n",
    "book.save('datas/data1.xls')"
   ]
  },
  {
   "cell_type": "markdown",
   "metadata": {},
   "source": [
    "我已经编写了一个库`ambhas.xls`,该库可以提供相当简单的方法来读取和写入xls数据。数据可以按照以下方式读取。"
   ]
  },
  {
   "cell_type": "code",
   "execution_count": null,
   "metadata": {},
   "outputs": [],
   "source": [
    "from ambhas.xls import xlsread\n",
    "fname ='datas/data.xls'\n",
    "foo = xlsread(fname)\n",
    "data = foo.get_cells('a3:a5','Ascending')"
   ]
  },
  {
   "cell_type": "markdown",
   "metadata": {},
   "source": [
    "按照以下方式将数据写入`xls`文件，写入的数据应该是一个numpy数组。"
   ]
  },
  {
   "cell_type": "code",
   "execution_count": null,
   "metadata": {},
   "outputs": [],
   "source": [
    "from ambhas.xls import xlsread\n",
    "fname ='datas/data.xls'\n",
    "foo = xlswrite(data,'a3','Ascending')\n",
    "foo.save(fname)"
   ]
  },
  {
   "cell_type": "markdown",
   "metadata": {},
   "source": [
    "由于该库依赖于`xlrd`，它也无法读取`xlsx`数据文件，你应该在读取前将`xlsx`文件格式转换为`xls`。"
   ]
  }
 ],
 "metadata": {
  "kernelspec": {
   "display_name": "Python 3",
   "language": "python",
   "name": "python3"
  },
  "language_info": {
   "codemirror_mode": {
    "name": "ipython",
    "version": 3
   },
   "file_extension": ".py",
   "mimetype": "text/x-python",
   "name": "python",
   "nbconvert_exporter": "python",
   "pygments_lexer": "ipython3",
   "version": "3.5.4"
  }
 },
 "nbformat": 4,
 "nbformat_minor": 2
}
