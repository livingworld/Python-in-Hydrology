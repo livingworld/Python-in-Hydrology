{
 "cells": [
  {
   "cell_type": "markdown",
   "metadata": {},
   "source": [
    "<!--BOOK_INFORMATION-->\n",
    "<img align=\"left\" style=\"padding-right:10px;\" src=\"figures/PHydro-cover-small.png\">\n",
    "*This is the Jupyter notebook version of the [Python in Hydrology](http://www.greenteapress.com/pythonhydro/pythonhydro.html) by Sat Kumar Tomer.*\n",
    "*Source code is available at [code.google.com](https://code.google.com/archive/p/python-in-hydrology/source).*\n",
    "\n",
    "*The book is available under the [GNU Free Documentation License](http://www.gnu.org/copyleft/fdl.html). If you have comments, corrections or suggestions, please send email to satkumartomer@gmail.com.*"
   ]
  },
  {
   "cell_type": "markdown",
   "metadata": {},
   "source": [
    "<!--NAVIGATION-->\n",
    "< [River Routing–Muskingum method](04.08-River-Routing-Muskingum-method.ipynb) | [Contents](Index.ipynb) | [Empirical Distributions](05.01-Empirical-Distributions.ipynb) >"
   ]
  },
  {
   "cell_type": "markdown",
   "metadata": {},
   "source": [
    "# 统计\n",
    "\n",
    "当对物理过程没有清楚的认识，或者没有物理建模所需要的变量时，那么统计就起着至关重要的作用。python中有各种模块可以处理统计，最常用的是`scipy.stats`。另外还有一个更有用的模块`statistics`，这个模块可以从`http://bonsai.hgc.jp/˜mdehoon/software/python/`下载。`statistics`不能使用`pip`下载，因此，你应该使用网络浏览器下载它，然而使用后使用`pip`或`python setup.py install`进行安装。"
   ]
  },
  {
   "cell_type": "markdown",
   "metadata": {},
   "source": [
    "### [5. Statistics](05.00-Statistics.ipynb)\n",
    "- [Empirical Distributions](05.01-Empirical-Distributions.ipynb)\n",
    "- [Theoretical Distributions](05.02-Theoretical-Distributions.ipynb)\n",
    "- [The t-Test](05.03-The-t-Test.ipynb)\n",
    "- [KS Test](05.04-KS-Test.ipynb)\n",
    "- [The Chi Square test](05.05-The-Chi-Square-test.ipynb)\n",
    "- [Measure of Statistical Dependence](05.06-Measure-of-Statistical-Dependence.ipynb)\n",
    "- [Linear Regression](05.07-Linear-Regression.ipynb)\n",
    "- [Polynomial Regression](05.08-Polynomial-Regression.ipynb)\n",
    "- [Interpolation](05.09-Interpolation.ipynb)\n",
    "- [Autocorrelation](05.10-Autocorrelation.ipynb)\n",
    "- [Uncertainty Intervals](05.11-Uncertainty-Intervals.ipynb)"
   ]
  }
 ],
 "metadata": {
  "kernelspec": {
   "display_name": "Python 3",
   "language": "python",
   "name": "python3"
  },
  "language_info": {
   "codemirror_mode": {
    "name": "ipython",
    "version": 3
   },
   "file_extension": ".py",
   "mimetype": "text/x-python",
   "name": "python",
   "nbconvert_exporter": "python",
   "pygments_lexer": "ipython3",
   "version": "3.5.4"
  }
 },
 "nbformat": 4,
 "nbformat_minor": 2
}
