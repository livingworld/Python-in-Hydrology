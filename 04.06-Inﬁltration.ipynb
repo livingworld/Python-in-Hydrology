{
 "cells": [
  {
   "cell_type": "markdown",
   "metadata": {},
   "source": [
    "<!--BOOK_INFORMATION-->\n",
    "<img align=\"left\" style=\"padding-right:10px;\" src=\"figures/PHydro-cover-small.png\">\n",
    "*This is the Jupyter notebook version of the [Python in Hydrology](http://www.greenteapress.com/pythonhydro/pythonhydro.html) by Sat Kumar Tomer.*\n",
    "*Source code is available at [code.google.com](https://code.google.com/archive/p/python-in-hydrology/source).*\n",
    "\n",
    "*The book is available under the [GNU Free Documentation License](http://www.gnu.org/copyleft/fdl.html). If you have comments, corrections or suggestions, please send email to satkumartomer@gmail.com.*"
   ]
  },
  {
   "cell_type": "markdown",
   "metadata": {},
   "source": [
    "<!--NAVIGATION-->\n",
    "< [Evaporation](04.05-Evaporation.ipynb) | [Contents](Index.ipynb) | [Surface Water](04.07-Surface Water.ipynb) >"
   ]
  },
  {
   "cell_type": "markdown",
   "metadata": {},
   "source": [
    "## 4.6 渗透量\n",
    "\n",
    "Green-Ampt法给出的累计渗透量写为:\n",
    "\n",
    "<center>$F(t)-\\psi\\Delta\\theta ln(1+\\frac{F(t)}{\\psi\\Delta\\theta})=Kt\\quad\\quad\\quad\\quad(4.12)$</center>\n",
    "\n",
    "其中，$F(t)$是t时刻后的累计渗透量，$\\psi$是吸头，$\\Delta\\theta$给出为，\n",
    "\n",
    "<center>$\\delta\\theta = (1-S_e)\\psi_e\\quad\\quad\\quad\\quad\\quad\\quad\\quad\\quad\\quad(4.13)$</center>\n",
    "\n",
    "其中，$S_e$是饱和度，$\\theta_e$是有效的孔隙度，$K$是渗透系数。用迭代过程求解方程，方程4.12被重写为，\n",
    "\n",
    "<center>$F(t) = \\psi\\delta\\theta ln(1+\\frac{F(t)}{\\psi\\delta\\theta})\\quad\\quad\\quad\\quad\\quad\\quad\\quad(4.14)$</center>\n",
    "\n",
    "我们使用`while`函数来迭代，直到我们达到了求的精度。使用`append`方法来存储$F$的迭代值。`append`通过一个个的项追加数组，并将输入变量放入其中。"
   ]
  },
  {
   "cell_type": "code",
   "execution_count": 8,
   "metadata": {},
   "outputs": [],
   "source": [
    "from __future__ import division\n",
    "import numpy as np\n",
    "# define the variables\n",
    "theta_e = 0.486\n",
    "psi = 16.7\n",
    "K = 0.65\n",
    "S_e = 0.3\n",
    "t = 1\n",
    "\n",
    "#calculate dtheta\n",
    "dtheta = (1-S_e)*theta_e\n",
    "\n",
    "# initial guess of F\n",
    "F_old = K*t\n",
    "epsilon = 1\n",
    "F = []\n",
    "while epsilon > 1e-4:\n",
    "    F_new = psi*dtheta * np.log(1+F_old/(psi*dtheta)) + K*t\n",
    "    epsilon = F_new - F_old\n",
    "    F_old = F_new\n",
    "    F.append(F_new)"
   ]
  },
  {
   "cell_type": "markdown",
   "metadata": {},
   "source": [
    "现在，我们绘制$F$的迭代值的图，看看$F$如何用迭代来更新。我们也在`plot`函数中使用`-ok`。`-o`代表示填充点的连线，`k`表示图的颜色为黑色。我们还指定了`xlabel`和`ylabel`的字体大小。我们已经为`ylabel`使用'25'，为`xlabel`使用’20‘来表示不同的字体大小可以用于不同的文本。当然，没有必要为`ylabel`和`xlabel`定义不同的字体大小。同样的参数`fontsize`也可以用来定义图例的字体大小。"
   ]
  },
  {
   "cell_type": "code",
   "execution_count": 9,
   "metadata": {},
   "outputs": [
    {
     "data": {
      "image/png": "[encoded data removed]",
      "text/plain": [
       "<matplotlib.figure.Figure at 0x2c92c3b3128>"
      ]
     },
     "metadata": {},
     "output_type": "display_data"
    }
   ],
   "source": [
    "import matplotlib.pyplot as plt\n",
    "plt.plot(F,'-ok')\n",
    "plt.xlabel('Number of iteration',fontsize=25)\n",
    "plt.ylabel('F',fontsize=20)\n",
    "plt.show()"
   ]
  },
  {
   "cell_type": "markdown",
   "metadata": {},
   "source": [
    "图4.9显示了$F$随着时间的变化。在大约12次迭代之后，$F$变得几乎恒定。"
   ]
  }
 ],
 "metadata": {
  "kernelspec": {
   "display_name": "Python 3",
   "language": "python",
   "name": "python3"
  },
  "language_info": {
   "codemirror_mode": {
    "name": "ipython",
    "version": 3
   },
   "file_extension": ".py",
   "mimetype": "text/x-python",
   "name": "python",
   "nbconvert_exporter": "python",
   "pygments_lexer": "ipython3",
   "version": "3.5.4"
  }
 },
 "nbformat": 4,
 "nbformat_minor": 2
}
