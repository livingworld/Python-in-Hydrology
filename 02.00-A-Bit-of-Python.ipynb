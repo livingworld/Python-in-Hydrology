{
 "cells": [
  {
   "cell_type": "markdown",
   "metadata": {},
   "source": [
    "<!--BOOK_INFORMATION-->\n",
    "<img align=\"left\" style=\"padding-right:10px;\" src=\"figures/PHydro-cover-small.png\">\n",
    "*This is the Jupyter notebook version of the [Python in Hydrology](http://www.greenteapress.com/pythonhydro/pythonhydro.html) by Sat Kumar Tomer.*\n",
    "*Source code is available at [code.google.com](https://code.google.com/archive/p/python-in-hydrology/source).*\n",
    "\n",
    "*The book is available under the [GNU Free Documentation License](http://www.gnu.org/copyleft/fdl.html). If you have comments, corrections or suggestions, please send email to satkumartomer@gmail.com.*"
   ]
  },
  {
   "cell_type": "markdown",
   "metadata": {},
   "source": [
    "<!--NAVIGATION-->\n",
    "< [The First Program](01.07-The-First-Program.ipynb) | [Contents](Index.ipynb) | [Data Types](02.01-Data-Types.ipynb) >"
   ]
  },
  {
   "cell_type": "markdown",
   "metadata": {},
   "source": [
    "# 第二章\n",
    "# 简明的Python\n",
    "\n",
    "在将Python应用到水文学之前，需要编写许多代码、操作数组等。最好学一些Python的基础知识，例如数据类型、循环(多次执行相同的任务)和编写函数等。首先要了解的是数据类型。\n",
    "\n"
   ]
  },
  {
   "cell_type": "markdown",
   "metadata": {},
   "source": [
    "### [2. A Bit of Python](02.00-A-Bit-of-Python.ipynb)\n",
    "- [Data Types](02.01-Data-Types.ipynb)\n",
    "- [Data Structures](02.02-Data-Structures.ipynb)\n",
    "- [Choosing the Name of Variable](02.03-Choosing-the-Name-of-Variable.ipynb)\n",
    "- [Operators and Operands](02.04-Operators-and-Operands.ipynb)\n",
    "- [Expressions](02.05-Expressions.ipynb)\n",
    "- [Control Flows](02.06-Control-Flows.ipynb)\n",
    "- [Functions](02.07-Functions.ipynb)\n",
    "- [Plotting](02.08-Plotting.ipynb)"
   ]
  }
 ],
 "metadata": {
  "kernelspec": {
   "display_name": "Python 3",
   "language": "python",
   "name": "python3"
  },
  "language_info": {
   "codemirror_mode": {
    "name": "ipython",
    "version": 3
   },
   "file_extension": ".py",
   "mimetype": "text/x-python",
   "name": "python",
   "nbconvert_exporter": "python",
   "pygments_lexer": "ipython3",
   "version": "3.5.4"
  }
 },
 "nbformat": 4,
 "nbformat_minor": 2
}
