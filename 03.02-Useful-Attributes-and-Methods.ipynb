{
 "cells": [
  {
   "cell_type": "markdown",
   "metadata": {},
   "source": [
    "<!--BOOK_INFORMATION-->\n",
    "<img align=\"left\" style=\"padding-right:10px;\" src=\"figures/PHydro-cover-small.png\">\n",
    "*This is the Jupyter notebook version of the [Python in Hydrology](http://www.greenteapress.com/pythonhydro/pythonhydro.html) by Sat Kumar Tomer.*\n",
    "*Source code is available at [code.google.com](https://code.google.com/archive/p/python-in-hydrology/source).*\n",
    "\n",
    "*The book is available under the [GNU Free Documentation License](http://www.gnu.org/copyleft/fdl.html). If you have comments, corrections or suggestions, please send email to satkumartomer@gmail.com.*"
   ]
  },
  {
   "cell_type": "markdown",
   "metadata": {},
   "source": [
    "<!--NAVIGATION-->\n",
    "< [Generating Sequential Arrays](03.01-Generating-Sequential-Arrays.ipynb) | [Contents](Index.ipynb) | [Indexing](03.03-Indexing.ipynb) >"
   ]
  },
  {
   "cell_type": "markdown",
   "metadata": {},
   "source": [
    "The ndarray (array generated using numpy) provides attributes to perform commonly used task quickly. These attributes are used to quickly get properties of ndarray. So let us first generate some vector whose elements are normally distributed random numbers, and try these attributes. Here I am using normally distributed random variable to demonstrate, but these attributed can be used with any numpy array. We are generating a 2 dimensional vector of size 5×100.\n",
    ">>> foo = np.random.randn(5,100)\n",
    "\n",
    "# to get the minimum vale\n",
    ">>> foo.min()\n",
    "-3.5160295160193256\n",
    "\n",
    "# to get the maximum value\n",
    ">>> foo.max()\n",
    "3.0989215376354817\n",
    "\n",
    "的` ndarray `（使用` NumPy `生成阵列）提供快速执行常用任务属性。这些属性是用来快速获得性能ndarray。让我们首先生成一些元素是正态分布随机数的向量，并尝试这些属性。在这里我用正态分布的随机变量表示的，但这些属性可用于任何NumPy数组。我们是5号的×100一个2维的向量生成。\n",
    "\n",
    "## 3.2 有用的属性和方法\n",
    "\n",
    "`ndarray`(采用`numpy`生成数组)提供了属性用于快速执行常用属性。这些属性是用来快速获得`ndarray`性能。让我们首先生成一些元素是正态分布随机数的向量，并尝试这些属性(?)。在这里"
   ]
  }
 ],
 "metadata": {
  "kernelspec": {
   "display_name": "Python 3",
   "language": "python",
   "name": "python3"
  },
  "language_info": {
   "codemirror_mode": {
    "name": "ipython",
    "version": 3
   },
   "file_extension": ".py",
   "mimetype": "text/x-python",
   "name": "python",
   "nbconvert_exporter": "python",
   "pygments_lexer": "ipython3",
   "version": "3.5.0"
  }
 },
 "nbformat": 4,
 "nbformat_minor": 2
}
